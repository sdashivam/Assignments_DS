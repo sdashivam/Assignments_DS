{
 "cells": [
  {
   "cell_type": "markdown",
   "metadata": {},
   "source": [
    "1. What is the name of the feature responsible for generating Regex objects?\n",
    "Ans:- the function is re.compile()\n",
    "\n",
    "2. Why do raw strings often appear in Regex objects?\n",
    "Ans:- Generally, we dont have to escaped the backslashes for that purpose we used raw strings.\n",
    "\n",
    "3. What is the return value of the search() method?\n",
    "Ans:- the search() method  returns match objects.ex-1\n",
    "\n",
    "4. From a Match item, how do you get the actual strings that match the pattern?\n",
    "Ans:- The group() method returns strings of the match pattern.ex-2\n",
    "\n",
    "5. In the regex which created from the r'(\\d\\d\\d)-(\\d\\d\\d-\\d\\d\\d\\d)', what does group zero cover? Group 2? Group 1?\n",
    "Ans:- group 0 = entire match, group 1 = first set of parentheses, group 2 = second set of parantheses.\n",
    "\n",
    "\n",
    "6. In standard expression syntax, parentheses and intervals have distinct meanings. How can you tell a regex that you want it to fit real parentheses and periods?\n",
    "Ans:- Periods and parentheses can be escaped with a Backslash:\\,\\. ex-3\n",
    "\n",
    "7. The findall() method returns a string list or a list of string tuples. What causes it to return one of the two options?\n",
    "Ans:- findall()function returns a list containing all matches.if there is no matches are found returns an empty list or if there is a match it returns a list of strings.  ex-4\n",
    "\n",
    "8. In standard expressions, what does the | character mean?\n",
    "Ans:- | it is used in the meaning of Either or. ex-5\n",
    "\n",
    "9. In regular expressions, what does the character stand for?\n",
    "Ans:- character means match zero or one of the preceding group.\n",
    "\n",
    "\n",
    "10. In regular expressions, what is the difference between the + and * characters?\n",
    "Ans:- In regular expression or Regex we used-\n",
    "+  == used for one or more occurrences\n",
    "*  == used for zero or more occurrences. ex-6\n",
    "\n",
    "\n",
    "11. What is the difference between {4} and {4,5} in regular expression?\n",
    "Ans:- we use {} to find exactly the specified number of occurances.\n",
    "so {4} matches exactly 4 instances and {4,5} matches b/w 4 and 5 instances. ex-7.\n",
    "\n",
    "\n",
    "12. What do you mean by the \\d, \\w, and \\s shorthand character classes signify in regular expressions?\n",
    "Ans:- these all are shorthand character classes match used for \n",
    "\\d == digit(returns a match where string contains digit no from 0-9),\n",
    "\\w == word(returns a match where string contains any word characters from a-Z),\n",
    "\\s == space(returns a match where string contains white space character).\n",
    "\n",
    "13. What do means by \\D, \\W, and \\S shorthand character classes signify in regular expressions?\n",
    "Ans:- these all are shorthand character classes match used for \n",
    "\\D == digit(returns a match where string does not contain digits),\n",
    "\\W == word(returns a match where string does not contain any word characters),\n",
    "\\S == space(returns a match where string does not contain white space character).\n",
    "\n",
    "\n",
    "14. What is the difference between .*? and .*?\n",
    "\n",
    "15. What is the syntax for matching both numbers and lowercase letters with a character class?\n",
    "Ans:- for that we can use either[0-9a-z] or [a-z0-9]\n",
    "\n",
    "16. What is the procedure for making a normal expression in regax case insensitive?\n",
    "Ans:- for that purpose we use re.IGNORECASE. this flag allows for case insensitive matching of the Regex with the given string. ex-8\n",
    "\n",
    "17. What does the . character normally match? What does it match if re.DOTALL is passed as 2nd argument in re.compile()?\n",
    "Ans:- the . character is used to match any character(except newline character).if we called re.DOTALL as a second argument to re.compile(), then dot will also match newline characters.\n",
    "ex-9\n",
    "\n",
    "\n",
    "18. If numReg = re.compile(r'\\d+'), what will numRegex.sub('X','11 drummers, 10 pipers, five rings, 4 hen') return?\n",
    "Ans:-ex-10 it will return 'X drummers, X pipers, five rings, X hen'\n",
    "\n",
    "19. What does passing re.VERBOSE as the 2nd argument to re.compile() allow to do?\n",
    "Ans:-\n",
    "This flag allows you to write regular expressions that look nicer and are more readable by allowing you to visually separate logical sections of the pattern and add comments. Whitespace within the pattern is ignored, except when in a character class, or when preceded by an unescaped backslash, or within tokens like *?, (?: or (?P<...>. When a line contains a # that is not in a character class and is not preceded by an unescaped backslash, all characters from the leftmost such # through the end of the line are ignored.\n",
    "\n",
    "\n",
    "20. How would you write a regex that match a number with comma for every three digits? It must match the given following:\n",
    "Ans:-\n",
    "ex-11 \n",
    "\n",
    "21. 21. How would you write a regex that matches the full name of someone whose last name iWatanabe? You can assume that the first name that comes before it will always be one word that begins with a capital letter. The regex must match the following:\n",
    "ex-12\n",
    "\n",
    "21. How would you write a regex that matches the full name of someone whose last name iWatanabe? You can assume that the first name that comes before it will always be one word that begins with a capital letter. The regex must match the following:\n",
    "Ans:- ex-13"
   ]
  },
  {
   "cell_type": "code",
   "execution_count": 1,
   "metadata": {},
   "outputs": [
    {
     "name": "stdout",
     "output_type": "stream",
     "text": [
      "<re.Match object; span=(0, 144), match=\"Apricots are packed with Vitamin A, which is also>\n",
      "Apricots are packed with Vitamin A, which is also known as retinol. It's fat soluble, and helps in the enhancement of vision, among other things\n",
      "['2', '2', '2', '3', '2', '4']\n",
      "['gold', 'gold', 'gold', 'gold']\n",
      "[]\n",
      "['24 carats'],Yes! Match is Found.\n",
      "[],No Match Found, Try with other keywords.\n",
      "['country'],Yes!! There is at least one match.\n",
      "[],No Match Found\n",
      "['ell'],Yes!! There is at least one match.\n"
     ]
    }
   ],
   "source": [
    "import re\n",
    "\n",
    "#ex-1\n",
    "stg = \"Apricots are packed with Vitamin A, which is also known as retinol. It's fat soluble, and helps in the enhancement of vision, among other things\"\n",
    "x = re.search(\"^Apricots.*things$\",stg)\n",
    "print(x)\n",
    "\n",
    "#ex-2\n",
    "stg = \"Apricots are packed with Vitamin A, which is also known as retinol. It's fat soluble, and helps in the enhancement of vision, among other things\"\n",
    "x = re.search(\"^Apricots.*things$\",stg)\n",
    "print(x.group())\n",
    "\n",
    "\n",
    "#ex-3\n",
    "stg = \"the standard 22 carats gold, the intermediate 23 carats gold, as well as the pure 24 carats gold, in this golden country\"\n",
    "x = re.findall('\\d',stg)\n",
    "print(x)\n",
    "\n",
    "#ex-4\n",
    "stg2 = \"the standard 22 carats gold, the intermediate 23 carats gold, as well as the pure 24 carats gold, in this golden country\"\n",
    "xf = re.findall('gold',stg2)\n",
    "print(xf)\n",
    "xf = re.findall('UK',stg2)\n",
    "print(xf)\n",
    "\n",
    "\n",
    "#ex-5\n",
    "stg2 = \"the standard 22 carats gold, the intermediate 23 carats gold, as well as the pure 24 carats gold, in this golden country\"\n",
    "xf = re.findall('24 carats| carrots',stg2)\n",
    "print(xf,end=\",\")\n",
    "if xf:\n",
    "    print(\"Yes! Match is Found.\")\n",
    "else:\n",
    "    print(\"No Match Found\")\n",
    "    \n",
    "    \n",
    "stg2 = \"the standard 22 carats gold, the intermediate 23 carats gold, as well as the pure 24 carats gold, in this golden country\"\n",
    "xf = re.findall('rabbit| carrots',stg2)\n",
    "print(xf,end=\",\")\n",
    "if xf:\n",
    "    print(\"Yes! Match is Found.\")\n",
    "else:\n",
    "    print(\"No Match Found, Try with other keywords.\")\n",
    "    \n",
    "    \n",
    "#ex-6\n",
    "stg2 = \"the standard 22 carats gold, the intermediate 23 carats gold, as well as the pure 24 carats gold, in this golden country\"\n",
    "xf = re.findall('countryx*',stg2)\n",
    "print(xf,end=\",\")\n",
    "if xf:\n",
    "    print(\"Yes!! There is at least one match.\")\n",
    "else:\n",
    "    print(\"No Match Found\")\n",
    "    \n",
    "    \n",
    "stg2 = \"the standard 22 carats gold, the intermediate 23 carats gold, as well as the pure 24 carats gold, in this golden country\"\n",
    "xf = re.findall('countryx+',stg2)\n",
    "print(xf,end=\",\")\n",
    "if xf:\n",
    "    print(\"Yes!! There is at least one match.\")\n",
    "else:\n",
    "    print(\"No Match Found\")\n",
    "    \n",
    "#ex-7\n",
    "stg2 = \"the standard 22 carats gold, the intermediate 23 carats gold, as well as the pure 24 carats gold, in this golden country\"\n",
    "xf = re.findall('el{2}',stg2) ## check if the string contains \"e\" folllowed by exactly two \"l\" characters:\n",
    "print(xf,end=\",\")\n",
    "if xf:\n",
    "    print(\"Yes!! There is at least one match.\")\n",
    "else:\n",
    "    print(\"No Match Found\")"
   ]
  },
  {
   "cell_type": "code",
   "execution_count": 2,
   "metadata": {},
   "outputs": [
    {
     "name": "stdout",
     "output_type": "stream",
     "text": [
      "Invalid\n",
      "['d', 'd', 'g', 'o', 'l', 'd', 'd', 'g', 'o', 'l', 'd', 'l', 'l', 'g', 'o', 'l', 'd', 'g', 'o', 'l', 'd', 'o']\n"
     ]
    }
   ],
   "source": [
    "##ex -8\n",
    "def validate_letters(lett):\n",
    "    regex_lett = re.compile(r'^(Data\\.|Science\\.|GOOD\\.) ([a-z]+)( [a-z]+)*( [a-z]+)*$',re.IGNORECASE)\n",
    "    res = regex_lett.search(lett)\n",
    "    if res:\n",
    "        print(\"Valid\")\n",
    "    else: \n",
    "        print(\"Invalid\")\n",
    "        \n",
    "        \n",
    "validate_letters('Data Science is Good')\n",
    "\n",
    "##ex-9\n",
    "stg2 = \"the standard 22 carats gold, the intermediate 23 carats gold, as well as the pure 24 carats gold, in this golden country\"\n",
    "xf = re.compile('[gold]',re.DOTALL)\n",
    "print(xf.findall(stg2))"
   ]
  },
  {
   "cell_type": "code",
   "execution_count": 16,
   "metadata": {},
   "outputs": [
    {
     "name": "stdout",
     "output_type": "stream",
     "text": [
      "X drummers, X pipers, five rings, X hen\n",
      "1,234\n",
      "42\n",
      "6,368,745\n",
      "\"Haruto Watanabe\" matches\n",
      "\"Alice Watanabe\" matches\n",
      "\"haruto Watanabe\" does not match\n",
      "\"Mr. Watanabe\" does not match\n",
      "BOB\n"
     ]
    }
   ],
   "source": [
    "##ex-10\n",
    "\n",
    "numReg = re.compile(r'\\d+')\n",
    "xf = numReg.sub('X','11 drummers, 10 pipers, five rings, 4 hen')\n",
    "print(xf)\n",
    "\n",
    "\n",
    "##ex-11\n",
    "numRegex = re.compile(r\"((?<!\\d)\\d{1,3}(?!\\d)(,\\d{3})*)\")\n",
    "txt = \"    1,234  42, 6,368,745   1234, \"\n",
    "xs = numRegex.findall(txt)\n",
    "for x in xs:\n",
    "    print(x[0])\n",
    "    \n",
    "    \n",
    "## ex-12\n",
    "def Match_lastname(name):\n",
    "    pat = re.compile(r'\\b[A-Z][a-zA-Z]+\\sWatanabe')\n",
    "    if pat.search(name):\n",
    "        print('\"'+name+'\" matches')\n",
    "    else:\n",
    "        print('\"'+name+'\" does not match')\n",
    "        \n",
    "Match_lastname('Haruto Watanabe')\n",
    "Match_lastname('Alice Watanabe')\n",
    "Match_lastname('haruto Watanabe')\n",
    "Match_lastname('Mr. Watanabe')\n",
    "\n",
    "\n",
    "## ex-13\n",
    "strng='BOB EATS APPLES'\n",
    "regex=re.compile(r'Alice|Bob|Carol\\seats|pets|throws\\sapples\\.|cats\\.|baseballs\\.',re.IGNORECASE)\n",
    "dm=regex.search(strng)\n",
    "dt=dm.group()\n",
    "print(dt)"
   ]
  },
  {
   "cell_type": "code",
   "execution_count": null,
   "metadata": {},
   "outputs": [],
   "source": []
  },
  {
   "cell_type": "code",
   "execution_count": null,
   "metadata": {},
   "outputs": [],
   "source": []
  },
  {
   "cell_type": "code",
   "execution_count": null,
   "metadata": {},
   "outputs": [],
   "source": []
  },
  {
   "cell_type": "code",
   "execution_count": null,
   "metadata": {},
   "outputs": [],
   "source": []
  },
  {
   "cell_type": "code",
   "execution_count": null,
   "metadata": {},
   "outputs": [],
   "source": []
  },
  {
   "cell_type": "code",
   "execution_count": null,
   "metadata": {},
   "outputs": [],
   "source": []
  },
  {
   "cell_type": "code",
   "execution_count": null,
   "metadata": {},
   "outputs": [],
   "source": []
  },
  {
   "cell_type": "code",
   "execution_count": null,
   "metadata": {},
   "outputs": [],
   "source": []
  },
  {
   "cell_type": "code",
   "execution_count": null,
   "metadata": {},
   "outputs": [],
   "source": []
  },
  {
   "cell_type": "code",
   "execution_count": null,
   "metadata": {},
   "outputs": [],
   "source": []
  },
  {
   "cell_type": "code",
   "execution_count": null,
   "metadata": {},
   "outputs": [],
   "source": []
  },
  {
   "cell_type": "code",
   "execution_count": null,
   "metadata": {},
   "outputs": [],
   "source": []
  },
  {
   "cell_type": "code",
   "execution_count": null,
   "metadata": {},
   "outputs": [],
   "source": []
  },
  {
   "cell_type": "code",
   "execution_count": null,
   "metadata": {},
   "outputs": [],
   "source": []
  },
  {
   "cell_type": "code",
   "execution_count": null,
   "metadata": {},
   "outputs": [],
   "source": []
  },
  {
   "cell_type": "code",
   "execution_count": null,
   "metadata": {},
   "outputs": [],
   "source": []
  },
  {
   "cell_type": "code",
   "execution_count": null,
   "metadata": {},
   "outputs": [],
   "source": []
  },
  {
   "cell_type": "code",
   "execution_count": null,
   "metadata": {},
   "outputs": [],
   "source": []
  },
  {
   "cell_type": "code",
   "execution_count": null,
   "metadata": {},
   "outputs": [],
   "source": []
  },
  {
   "cell_type": "code",
   "execution_count": null,
   "metadata": {},
   "outputs": [],
   "source": []
  },
  {
   "cell_type": "code",
   "execution_count": null,
   "metadata": {},
   "outputs": [],
   "source": []
  },
  {
   "cell_type": "code",
   "execution_count": null,
   "metadata": {},
   "outputs": [],
   "source": []
  },
  {
   "cell_type": "code",
   "execution_count": null,
   "metadata": {},
   "outputs": [],
   "source": []
  },
  {
   "cell_type": "code",
   "execution_count": null,
   "metadata": {},
   "outputs": [],
   "source": []
  },
  {
   "cell_type": "code",
   "execution_count": null,
   "metadata": {},
   "outputs": [],
   "source": []
  },
  {
   "cell_type": "code",
   "execution_count": null,
   "metadata": {},
   "outputs": [],
   "source": []
  },
  {
   "cell_type": "code",
   "execution_count": null,
   "metadata": {},
   "outputs": [],
   "source": []
  },
  {
   "cell_type": "code",
   "execution_count": null,
   "metadata": {},
   "outputs": [],
   "source": []
  },
  {
   "cell_type": "code",
   "execution_count": null,
   "metadata": {},
   "outputs": [],
   "source": []
  },
  {
   "cell_type": "code",
   "execution_count": null,
   "metadata": {},
   "outputs": [],
   "source": []
  },
  {
   "cell_type": "code",
   "execution_count": null,
   "metadata": {},
   "outputs": [],
   "source": []
  },
  {
   "cell_type": "code",
   "execution_count": null,
   "metadata": {},
   "outputs": [],
   "source": []
  }
 ],
 "metadata": {
  "kernelspec": {
   "display_name": "Python 3",
   "language": "python",
   "name": "python3"
  },
  "language_info": {
   "codemirror_mode": {
    "name": "ipython",
    "version": 3
   },
   "file_extension": ".py",
   "mimetype": "text/x-python",
   "name": "python",
   "nbconvert_exporter": "python",
   "pygments_lexer": "ipython3",
   "version": "3.8.5"
  }
 },
 "nbformat": 4,
 "nbformat_minor": 4
}
