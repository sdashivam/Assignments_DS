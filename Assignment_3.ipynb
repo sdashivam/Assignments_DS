{
 "cells": [
  {
   "cell_type": "markdown",
   "metadata": {},
   "source": [
    "1.What are the benefits of including roles in the programmes? \n",
    "Ans:-\n",
    "we try to create roles in programme by creating module or simpily by writing a code in modular style.Modular programming is a software design technique that emphasizes separating the functionality of a program into independent, interchangeable modules, such that each contains everything necessary to execute only one aspect of the desired functionality.A module interface expresses the elements that are provided and required by the module. The elements defined in the interface are detectable by other modules. The implementation contains the working code that corresponds to the elements declared in the interface. Modular programming is closely related to structured programming and object-oriented programming, all having the same goal of facilitating construction of large software programs and systems by decomposition into smaller pieces."
   ]
  },
  {
   "cell_type": "markdown",
   "metadata": {},
   "source": [
    "2.When does the code in a function run: when its specified or when its called?\n",
    "Ans:-\n",
    "A Function in Python is a piece of code which runs when it is referenced. It is used to utilize the code in more than one place in a program. It is also called method or procedure. Python provides many inbuilt functions like print(), input(), compile(), exec(), etc.it also gives freedom to create your own functions.\n",
    "Function in Python is defined by the \"def \" statement followed by the function name and parentheses ( () )"
   ]
  },
  {
   "cell_type": "markdown",
   "metadata": {},
   "source": [
    "3.What statement causes a feature to be created?\n",
    "Ans:-\n",
    "in python we have simple statements inside it there is 13 other type of statement we have that are necessary to define a function.according to python documentation they all are given below:-\n",
    "simple_stmt ::=  expression_stmt\n",
    "                 | assert_stmt\n",
    "                 | assignment_stmt\n",
    "                 | augmented_assignment_stmt\n",
    "                 | annotated_assignment_stmt\n",
    "                 | pass_stmt\n",
    "                 | del_stmt\n",
    "                 | return_stmt\n",
    "                 | yield_stmt\n",
    "                 | raise_stmt\n",
    "                 | break_stmt\n",
    "                 | continue_stmt\n",
    "                 | import_stmt\n",
    "                 | future_stmt\n",
    "                 | global_stmt\n",
    "                 | nonlocal_stmt"
   ]
  },
  {
   "cell_type": "markdown",
   "metadata": {},
   "source": [
    "4.What is the distinction between a function and a call to a function?\n",
    "Ans:-\n",
    "function=> in python we use def keyword to define a custom function with function name and parentheses.\n",
    "call to a function=>When we \"call\" a function we are basically just telling the program to execute that function. "
   ]
  },
  {
   "cell_type": "code",
   "execution_count": 2,
   "metadata": {},
   "outputs": [
    {
     "data": {
      "text/plain": [
       "25"
      ]
     },
     "execution_count": 2,
     "metadata": {},
     "output_type": "execute_result"
    }
   ],
   "source": [
    "def add(num1, num2):  #define a function 'add'\n",
    "    return num1+num2\n",
    "\n",
    "add(12,13)           # calling an 'add' function "
   ]
  },
  {
   "cell_type": "markdown",
   "metadata": {},
   "source": [
    "5.In a Python application, how many global scopes are there? How many local scopes are there?\n",
    "Ans:-\n",
    "The range in which a variable can be accessed is it's scope. For example if a variable is defined in a function, then the scope of the variable is that function.\n",
    "In programming, the scope of a name defines the area of a program in which you can unambiguously access that name, such as variables, functions, objects, and so on. A name will only be visible to and accessible by the code in its scope\n",
    "\n",
    "Global scopes=>In Python, a variable declared outside of the function or in global scope is known as a global variable. This means that a global variable can be accessed inside or outside of the function.There’s only one global Python scope per program execution. This scope remains in existence until the program terminates and all its names are forgotten. Otherwise, the next time you were to run the program, the names would remember their values from the previous run.\n",
    "\n",
    "Local scopes=>A variable declared inside the function's body or in the local scope is known as a local variable.The names that we define in this scope are only available or visible to the code within the scope.when we use an unqualified name inside a function, python searches three scopes- local(L), global(G) and then built-in(B) and stops at the first place the name is found."
   ]
  },
  {
   "cell_type": "code",
   "execution_count": 3,
   "metadata": {},
   "outputs": [
    {
     "data": {
      "text/plain": [
       "100"
      ]
     },
     "execution_count": 3,
     "metadata": {},
     "output_type": "execute_result"
    }
   ],
   "source": [
    "# global scope\n",
    "X = 99                # X and func assigned in module: global\n",
    "          \n",
    "def func(Y):          # Y and Z assigned in function: locals\n",
    "    # local scope\n",
    "    Z = X + Y         # X is not assigned, so it's a global\n",
    "    return Z\n",
    "\n",
    "func(1)             "
   ]
  },
  {
   "cell_type": "markdown",
   "metadata": {},
   "source": [
    "6.When a function call returns, what happens to variables in the local scope?\n",
    "Ans:-\n",
    "a local variable is a temporary variable that is only known(only exists) in the function it is defined in. it is a Python scope created at function calls. Every time we call a function, we are also creating a new local scope. On the other hand, we can think of each def statement and lambda expression as a blueprint for new local scopes. These local scopes will come into existence whenever we call the function at hand.By default, parameters and names that  assign inside a function exist only within the function or local scope associated with the function call. When the function returns, the local scope is destroyed and the names are forgotten.example is given below:-"
   ]
  },
  {
   "cell_type": "code",
   "execution_count": 8,
   "metadata": {},
   "outputs": [
    {
     "name": "stdout",
     "output_type": "stream",
     "text": [
      "The square of 21 is: 441\n"
     ]
    }
   ],
   "source": [
    "def square(base):\n",
    "    result = base ** 2\n",
    "    print(f'The square of {base} is: {result}')\n",
    "    \n",
    "square(21)\n",
    "\n",
    "# here result isn't accessible from outside square(), if we try to call it from outside it will give us 'NameError'"
   ]
  },
  {
   "cell_type": "markdown",
   "metadata": {},
   "source": [
    "7.What is the concept of a return value? Is it possible to have a return value in an expression?\n",
    "Ans:-\n",
    "return value:-A return statement is used to end the execution of the function call and “returns” the result (value of the expression following the return keyword) to the caller. The statements after the return statements are not executed. If the return statement is without any expression, then the special value None is returned. and it can not be used outside the function.we can use any Python object as a return value. Since everything in Python is an object, we can return strings, lists, tuples, dictionaries, functions, classes, instances, user-defined objects, and even modules or packages.\n",
    "example is given below:-"
   ]
  },
  {
   "cell_type": "code",
   "execution_count": 9,
   "metadata": {},
   "outputs": [
    {
     "name": "stdout",
     "output_type": "stream",
     "text": [
      "Result of add function is 5\n",
      "\n",
      "Result of is_true function is True\n"
     ]
    }
   ],
   "source": [
    "def add(a, b): \n",
    "   \n",
    "    return a + b \n",
    "  \n",
    "def is_true(a): \n",
    "  \n",
    "    return bool(a) \n",
    "  \n",
    "\n",
    "res = add(2, 3) \n",
    "print(\"Result of add function is {}\".format(res)) \n",
    "  \n",
    "res = is_true(2<5) \n",
    "print(\"\\nResult of is_true function is {}\".format(res)) "
   ]
  },
  {
   "cell_type": "markdown",
   "metadata": {},
   "source": [
    "8.What is the return value of a call to a function that does not have a return statement?\n",
    "Ans:-\n",
    " A function without an explicit return statement returns None. In the case of no arguments and no return value, the definition is very simple."
   ]
  },
  {
   "cell_type": "markdown",
   "metadata": {},
   "source": [
    "9.How do you make a function variable refer to the global variable?\n",
    "Ans:-\n",
    "Global variables are the one that is defined and declared outside a function and we need to use them inside a function."
   ]
  },
  {
   "cell_type": "code",
   "execution_count": 11,
   "metadata": {},
   "outputs": [
    {
     "name": "stdout",
     "output_type": "stream",
     "text": [
      "Community for Data Science\n"
     ]
    },
    {
     "data": {
      "text/plain": [
       "'Data Science'"
      ]
     },
     "execution_count": 11,
     "metadata": {},
     "output_type": "execute_result"
    }
   ],
   "source": [
    "x = \"Data Science\" #here x is the global variable that we are using inside myfunc() function\n",
    "\n",
    "def myfunc():\n",
    "    print(\"Community for \" + x)\n",
    "\n",
    "myfunc()\n",
    "x"
   ]
  },
  {
   "cell_type": "markdown",
   "metadata": {},
   "source": [
    "10.What data form does None belong to?\n",
    "Ans:-\n",
    "the None keyword is used to define a null value, or no value at all.None is not the same as 0, False, or an empty string. None is a data type of its own (NoneType) and only None can be None.\n"
   ]
  },
  {
   "cell_type": "code",
   "execution_count": 12,
   "metadata": {},
   "outputs": [
    {
     "name": "stdout",
     "output_type": "stream",
     "text": [
      "None is just None...\n"
     ]
    }
   ],
   "source": [
    "x = None\n",
    "\n",
    "if x:\n",
    "    print(\"none is true or not ?\")\n",
    "elif x is False:\n",
    "    print (\" None is False\")\n",
    "else:\n",
    "    print(\"None is just None...\")"
   ]
  },
  {
   "cell_type": "markdown",
   "metadata": {},
   "source": [
    "11.What does the sentence import areallyourpetsnamederic do?\n",
    "Ans:-in Python, we use the import keyword to make code in one module available in another. Imports in Python are important for structuring code effectively. Using imports properly will make code more productive, allowing to reuse code while keeping projects maintainable.\n",
    "So, when we write a sentance import areallyourpetsnamederic it will import all the function related to areallyourpetsnamederic and make them ready for use in current program."
   ]
  },
  {
   "cell_type": "markdown",
   "metadata": {},
   "source": [
    "12.If you had a bacon() feature in a spam module, what would you call it after importing spam?\n",
    "Ans:-\n",
    "after importing the module spam we can use all the related function from it. and we can call bacon() to a function or methods from spam module."
   ]
  },
  {
   "cell_type": "markdown",
   "metadata": {},
   "source": [
    "13.What can you do to save a programme from crashing if it encounters an error?\n",
    "Ans:-\n",
    "The most common reason of an error in a Python program is when a certain statement is not in accordance with the prescribed usage. Such an error is called a syntax error. The Python interpreter immediately reports it, usually along with the reason.Many times though, a program results in an error after it is run even if it doesn't have any syntax error. Such an error is a runtime error, called an exception. A number of built-in exceptions are defined in the Python library.\n",
    "to handle such errors we need to use a exception handling and while running the program whatever error message we get need to debug accordingly.we can also   choose to throw an exception if a condition occurs,To throw (or raise) an exception, use the raise keyword.\n",
    "apart from that we can also use logging module to catch all kind of errors that arise while executing the program.\n",
    "\n",
    "example is given below:-"
   ]
  },
  {
   "cell_type": "code",
   "execution_count": 30,
   "metadata": {},
   "outputs": [
    {
     "ename": "NameError",
     "evalue": "name 'v' is not defined",
     "output_type": "error",
     "traceback": [
      "\u001b[1;31m---------------------------------------------------------------------------\u001b[0m",
      "\u001b[1;31mNameError\u001b[0m                                 Traceback (most recent call last)",
      "\u001b[1;32m<ipython-input-30-d6c1535c9ec8>\u001b[0m in \u001b[0;36m<module>\u001b[1;34m\u001b[0m\n\u001b[1;32m----> 1\u001b[1;33m \u001b[0mprint\u001b[0m\u001b[1;33m(\u001b[0m\u001b[0mv\u001b[0m\u001b[1;33m)\u001b[0m\u001b[1;33m\u001b[0m\u001b[1;33m\u001b[0m\u001b[0m\n\u001b[0m",
      "\u001b[1;31mNameError\u001b[0m: name 'v' is not defined"
     ]
    }
   ],
   "source": [
    "print(v) ##we haven't defined the value of v that's why we are getting NameError here to handle it we are using exception handling"
   ]
  },
  {
   "cell_type": "code",
   "execution_count": 33,
   "metadata": {},
   "outputs": [
    {
     "name": "stdout",
     "output_type": "stream",
     "text": [
      "Something went wrong\n",
      "The 'try except' is finished\n"
     ]
    }
   ],
   "source": [
    "# here we are handling the NameError and as a output we are getting a message\n",
    "try:\n",
    "    print(v)\n",
    "except:\n",
    "    print(\"Something went wrong\")\n",
    "finally:\n",
    "    print(\"The 'try except' is finished\")"
   ]
  },
  {
   "cell_type": "code",
   "execution_count": 34,
   "metadata": {},
   "outputs": [
    {
     "ename": "Exception",
     "evalue": "Sorry, no numbers below zero",
     "output_type": "error",
     "traceback": [
      "\u001b[1;31m---------------------------------------------------------------------------\u001b[0m",
      "\u001b[1;31mException\u001b[0m                                 Traceback (most recent call last)",
      "\u001b[1;32m<ipython-input-34-38174769ef86>\u001b[0m in \u001b[0;36m<module>\u001b[1;34m\u001b[0m\n\u001b[0;32m      2\u001b[0m \u001b[1;33m\u001b[0m\u001b[0m\n\u001b[0;32m      3\u001b[0m \u001b[1;32mif\u001b[0m \u001b[0mx\u001b[0m \u001b[1;33m<\u001b[0m \u001b[1;36m0\u001b[0m\u001b[1;33m:\u001b[0m\u001b[1;33m\u001b[0m\u001b[1;33m\u001b[0m\u001b[0m\n\u001b[1;32m----> 4\u001b[1;33m     \u001b[1;32mraise\u001b[0m \u001b[0mException\u001b[0m\u001b[1;33m(\u001b[0m\u001b[1;34m\"Sorry, no numbers below zero\"\u001b[0m\u001b[1;33m)\u001b[0m\u001b[1;33m\u001b[0m\u001b[1;33m\u001b[0m\u001b[0m\n\u001b[0m",
      "\u001b[1;31mException\u001b[0m: Sorry, no numbers below zero"
     ]
    }
   ],
   "source": [
    "x = -1\n",
    "\n",
    "if x < 0:\n",
    "    raise Exception(\"Sorry, no numbers below zero\")"
   ]
  },
  {
   "cell_type": "markdown",
   "metadata": {},
   "source": [
    "14.What is the purpose of the try clause? What is the purpose of the except clause?\n",
    "Ans:-\n",
    "Try and Except statement is used to handle these errors within our code in Python. The try block is used to check some code for errors i.e the code inside the try block will execute when there is no error in the program. Whereas the code inside the except block will execute whenever the program encounters some error in the preceding try block.\n",
    " it will catch all exceptions and handle every case in the same way. We can specify which exceptions an except clause should catch.A try clause can have any number of except clauses to handle different exceptions, however, only one will be executed in case an exception occurs.\n",
    " example is given below-"
   ]
  },
  {
   "cell_type": "code",
   "execution_count": 38,
   "metadata": {},
   "outputs": [
    {
     "name": "stdout",
     "output_type": "stream",
     "text": [
      "Enter a number: 44\n",
      "0.022727272727272728\n"
     ]
    }
   ],
   "source": [
    "try:\n",
    "    num = int(input(\"Enter a number: \"))\n",
    "    assert num % 2 == 0\n",
    "except:\n",
    "    print(\"Not an even number!\")\n",
    "else:\n",
    "    reciprocal = 1/num\n",
    "    print(reciprocal)"
   ]
  },
  {
   "cell_type": "code",
   "execution_count": null,
   "metadata": {},
   "outputs": [],
   "source": []
  }
 ],
 "metadata": {
  "kernelspec": {
   "display_name": "Python 3",
   "language": "python",
   "name": "python3"
  },
  "language_info": {
   "codemirror_mode": {
    "name": "ipython",
    "version": 3
   },
   "file_extension": ".py",
   "mimetype": "text/x-python",
   "name": "python",
   "nbconvert_exporter": "python",
   "pygments_lexer": "ipython3",
   "version": "3.8.5"
  }
 },
 "nbformat": 4,
 "nbformat_minor": 4
}
