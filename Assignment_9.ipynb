{
 "cells": [
  {
   "cell_type": "markdown",
   "metadata": {},
   "source": [
    "1. To what does a relative path refer?\n",
    "Ans:-\n",
    "A relative path refers to a location that is relative to a current directory. Relative paths make use of two special symbols, a dot (.) and a double-dot (..), which translate into the current directory and the parent directory. \n",
    "\n",
    "\n",
    "2. What does an absolute path start with your operating system?\n",
    "Ans:-\n",
    "An absolute, or full, path begins with a drive letter followed by a colon, such as C: .\n",
    "\n",
    "3. What do the functions os.getcwd() and os.chdir() do?\n",
    "Ans:-\n",
    "os.getcwd() -- give us the current working directory address.\n",
    "os.chdir() -- wenever we want to change our present working directory with any other direcotry we use these command.\n",
    "\n",
    "\n",
    "4. What are the . and .. folders?\n",
    "Ans:-\n",
    ".. folders are used for moving up in the hierarchy. and A . folder represents the current directory itself.\n",
    "\n",
    "\n",
    "5. In C:\\bacon\\eggs\\spam.txt, which part is the dir name, and which part is the base name?\n",
    "Ans:-\n",
    "the dir name is C:\\bacon\\eggs\n",
    "and the base name is spam.txt\n",
    "\n",
    "\n",
    "6. What are the three “mode” arguments that can be passed to the open() function?\n",
    "Ans:-the mode argument in open function is given below:-\n",
    "'r'       open for reading (default)\n",
    "'w'       open for writing, truncating the file first\n",
    "'x'       create a new file and open it for writing\n",
    "'a'       open for writing, appending to the end of the file if it exists\n",
    "'b'       binary mode\n",
    "'t'       text mode (default)\n",
    "'+'       open a disk file for updating (reading and writing)\n",
    "\n",
    "\n",
    "7. What happens if an existing file is opened in write mode?\n",
    "Ans:-\n",
    "To open a file in write mode, “w” is specified. When mode “w” is specified, it creates an empty file for output operations. OR, If a file with the same name already exists, its contents are truncated and over-written. The handle is positioned at the beginning of the file. Creates the file if the file does not exist.\n",
    "\n",
    "8. How do you tell the difference between read() and readlines()?\n",
    "Ans:-\n",
    "read() --The read() method returns the specified number of bytes from the file. Default is -1 which means the whole file.\n",
    "readlines() -- readlines() function is to read all the contents from the given file and save the output in a list.The readlines() function reads until the End of the file, making use of readline() function internally and returns a list with all the lines read from the file.\n",
    "\n",
    "9. What data structure does a shelf value resemble?\n",
    "Ans:-\n",
    "A shelf value resembles a dictionary value; it has keys and values, along with keys() and values() methods that work similarly to the dictionary methods of the same names."
   ]
  },
  {
   "cell_type": "code",
   "execution_count": 33,
   "metadata": {},
   "outputs": [],
   "source": [
    "import os"
   ]
  },
  {
   "cell_type": "code",
   "execution_count": 42,
   "metadata": {},
   "outputs": [
    {
     "name": "stdout",
     "output_type": "stream",
     "text": [
      "adsds 123 gdhdhgf 55786xaserr td \n"
     ]
    }
   ],
   "source": [
    "f = open(\"test.log.txt\", \"r\")\n",
    "print(f.read(33))"
   ]
  },
  {
   "cell_type": "code",
   "execution_count": 36,
   "metadata": {},
   "outputs": [
    {
     "name": "stdout",
     "output_type": "stream",
     "text": [
      "['2021-04-06 01:26:40,228 - inside the sum function\\n', '2021-04-06 01:26:40,229 - user inputs(12, 23, 43, 55, 65, 74, 67)\\n', '2021-04-06 01:26:59,142 - inside the sum function\\n', '2021-04-06 01:26:59,142 - user inputs(12, 23, 43, 55, 65, 74, 67)\\n', '2021-04-06 01:27:03,505 - inside the sum function\\n', '2021-04-06 01:27:03,506 - user inputs(12, 23, 43, 55, 65, 74, 67)\\n', '2021-04-06 01:27:46,357 - inside the sum function\\n', '2021-04-06 01:27:46,357 - user inputs(12, 23, 500, 87)\\n', '2021-04-06 01:29:20,191 - inside the sum function\\n', '2021-04-06 01:29:20,191 - user inputs(512, 253, 500, 87)\\n', '2021-04-06 01:48:35,609 - this is my first test code for log\\n', '2021-04-06 01:48:35,610 - this is info for logger one \\n', '2021-04-06 01:48:35,611 - this is info for logger two \\n', '2021-04-06 01:48:41,440 - this is my first test code for log\\n', '2021-04-06 01:48:41,441 - this is info for logger one \\n', '2021-04-06 01:48:41,443 - this is info for logger two \\n', '2021-04-06 01:49:29,016 - this is my first test code for log\\n', '2021-04-06 01:49:29,018 - this is info for logger one \\n', '2021-04-06 01:49:29,020 - this is info for logger two \\n', '2021-04-06 01:49:32,529 - this is my first test code for log\\n', '2021-04-06 01:49:32,532 - this is info for logger one \\n', '2021-04-06 01:49:32,535 - this is info for logger two \\n', '2021-04-06 01:55:57,926 - main log\\n', '2021-04-06 01:55:57,929 - this is from user1 info\\n', '2021-04-06 01:59:05,299 - main log\\n', '2021-04-06 01:59:05,303 - this is from user1 info\\n', '2021-04-06 01:59:08,145 - main log\\n', '2021-04-06 01:59:08,150 - this is from user1 info\\n', '2021-04-06 01:59:09,687 - main log\\n', '2021-04-06 01:59:09,693 - this is from user1 info\\n', '2021-04-06 01:59:39,371 - main log\\n', '2021-04-06 01:59:39,376 - this is from user1 info\\n', '2021-04-06 01:59:39,381 - this is from user2 info\\n', '2021-04-06 02:00:38,839 - main log\\n', '2021-04-06 02:00:38,847 - this is from user1 info\\n', '2021-04-06 02:00:38,851 - this is from user2 info\\n', '2021-04-06 02:00:40,693 - main log\\n', '2021-04-06 02:00:40,700 - this is from user1 info\\n', '2021-04-06 02:00:40,706 - this is from user2 info\\n']\n"
     ]
    }
   ],
   "source": [
    "f = open(\"app.log\",\"r\")\n",
    "mlst = f.readlines()\n",
    "print(mlst)\n",
    "f.close()"
   ]
  },
  {
   "cell_type": "code",
   "execution_count": 37,
   "metadata": {},
   "outputs": [
    {
     "name": "stdout",
     "output_type": "stream",
     "text": [
      "2021-04-06 01:26:40,228 - inside the sum function\n",
      "\n",
      "2021-04-06 01:26:40,229 - user inputs(12, 23, 43, 55, 65, 74, 67)\n",
      "\n",
      "2021-04-06 01:26:59,142 - inside the sum function\n",
      "\n",
      "2021-04-06 01:26:59,142 - user inputs(12, 23, 43, 55, 65, 74, 67)\n",
      "\n",
      "2021-04-06 01:27:03,505 - inside the sum function\n",
      "\n",
      "2021-04-06 01:27:03,506 - user inputs(12, 23, 43, 55, 65, 74, 67)\n",
      "\n",
      "2021-04-06 01:27:46,357 - inside the sum function\n",
      "\n",
      "2021-04-06 01:27:46,357 - user inputs(12, 23, 500, 87)\n",
      "\n",
      "2021-04-06 01:29:20,191 - inside the sum function\n",
      "\n",
      "2021-04-06 01:29:20,191 - user inputs(512, 253, 500, 87)\n",
      "\n",
      "2021-04-06 01:48:35,609 - this is my first test code for log\n",
      "\n",
      "2021-04-06 01:48:35,610 - this is info for logger one \n",
      "\n",
      "2021-04-06 01:48:35,611 - this is info for logger two \n",
      "\n",
      "2021-04-06 01:48:41,440 - this is my first test code for log\n",
      "\n",
      "2021-04-06 01:48:41,441 - this is info for logger one \n",
      "\n",
      "2021-04-06 01:48:41,443 - this is info for logger two \n",
      "\n",
      "2021-04-06 01:49:29,016 - this is my first test code for log\n",
      "\n",
      "2021-04-06 01:49:29,018 - this is info for logger one \n",
      "\n",
      "2021-04-06 01:49:29,020 - this is info for logger two \n",
      "\n",
      "2021-04-06 01:49:32,529 - this is my first test code for log\n",
      "\n",
      "2021-04-06 01:49:32,532 - this is info for logger one \n",
      "\n",
      "2021-04-06 01:49:32,535 - this is info for logger two \n",
      "\n",
      "2021-04-06 01:55:57,926 - main log\n",
      "\n",
      "2021-04-06 01:55:57,929 - this is from user1 info\n",
      "\n",
      "2021-04-06 01:59:05,299 - main log\n",
      "\n",
      "2021-04-06 01:59:05,303 - this is from user1 info\n",
      "\n",
      "2021-04-06 01:59:08,145 - main log\n",
      "\n",
      "2021-04-06 01:59:08,150 - this is from user1 info\n",
      "\n",
      "2021-04-06 01:59:09,687 - main log\n",
      "\n",
      "2021-04-06 01:59:09,693 - this is from user1 info\n",
      "\n",
      "2021-04-06 01:59:39,371 - main log\n",
      "\n",
      "2021-04-06 01:59:39,376 - this is from user1 info\n",
      "\n",
      "2021-04-06 01:59:39,381 - this is from user2 info\n",
      "\n",
      "2021-04-06 02:00:38,839 - main log\n",
      "\n",
      "2021-04-06 02:00:38,847 - this is from user1 info\n",
      "\n",
      "2021-04-06 02:00:38,851 - this is from user2 info\n",
      "\n",
      "2021-04-06 02:00:40,693 - main log\n",
      "\n",
      "2021-04-06 02:00:40,700 - this is from user1 info\n",
      "\n",
      "2021-04-06 02:00:40,706 - this is from user2 info\n",
      "\n"
     ]
    }
   ],
   "source": [
    "#we can also read all the lines in the file with the help of for and while lop \n",
    "file = open(\"app.log\",\"r\")\n",
    "for line in file:\n",
    "    print(line)\n",
    "file.close()"
   ]
  },
  {
   "cell_type": "code",
   "execution_count": 38,
   "metadata": {},
   "outputs": [
    {
     "data": {
      "text/plain": [
       "'D:\\\\ML_ineuron_course\\\\Notebooks'"
      ]
     },
     "execution_count": 38,
     "metadata": {},
     "output_type": "execute_result"
    }
   ],
   "source": [
    "pwd"
   ]
  },
  {
   "cell_type": "code",
   "execution_count": 40,
   "metadata": {},
   "outputs": [],
   "source": [
    "os.chdir(os.getcwd() + \"\\\\logfile\")"
   ]
  },
  {
   "cell_type": "code",
   "execution_count": 41,
   "metadata": {},
   "outputs": [
    {
     "data": {
      "text/plain": [
       "['logtests', 'test.log.txt', 'test12.txt', 'test13.txt']"
      ]
     },
     "execution_count": 41,
     "metadata": {},
     "output_type": "execute_result"
    }
   ],
   "source": [
    "os.listdir()"
   ]
  },
  {
   "cell_type": "code",
   "execution_count": 44,
   "metadata": {},
   "outputs": [
    {
     "name": "stdout",
     "output_type": "stream",
     "text": [
      "INFO:root:this is start function\n",
      "INFO:root:this is start function\n",
      "INFO:root:this is info log\n",
      "WARNING:root:this is warning log\n",
      "ERROR:root:this is error log\n",
      "ERROR:root:this is exception log\n",
      "NoneType: None\n",
      "CRITICAL:root:this is critical log\n",
      "\n"
     ]
    }
   ],
   "source": [
    "file = open('test12.txt',\"r\")\n",
    "line = file.read()\n",
    "print(line)"
   ]
  },
  {
   "cell_type": "code",
   "execution_count": null,
   "metadata": {},
   "outputs": [],
   "source": []
  },
  {
   "cell_type": "code",
   "execution_count": null,
   "metadata": {},
   "outputs": [],
   "source": []
  },
  {
   "cell_type": "code",
   "execution_count": null,
   "metadata": {},
   "outputs": [],
   "source": []
  },
  {
   "cell_type": "code",
   "execution_count": null,
   "metadata": {},
   "outputs": [],
   "source": []
  },
  {
   "cell_type": "code",
   "execution_count": null,
   "metadata": {},
   "outputs": [],
   "source": []
  },
  {
   "cell_type": "code",
   "execution_count": null,
   "metadata": {},
   "outputs": [],
   "source": []
  },
  {
   "cell_type": "code",
   "execution_count": null,
   "metadata": {},
   "outputs": [],
   "source": []
  },
  {
   "cell_type": "code",
   "execution_count": null,
   "metadata": {},
   "outputs": [],
   "source": []
  },
  {
   "cell_type": "code",
   "execution_count": null,
   "metadata": {},
   "outputs": [],
   "source": []
  },
  {
   "cell_type": "code",
   "execution_count": null,
   "metadata": {},
   "outputs": [],
   "source": []
  },
  {
   "cell_type": "code",
   "execution_count": null,
   "metadata": {},
   "outputs": [],
   "source": []
  },
  {
   "cell_type": "code",
   "execution_count": null,
   "metadata": {},
   "outputs": [],
   "source": []
  },
  {
   "cell_type": "code",
   "execution_count": null,
   "metadata": {},
   "outputs": [],
   "source": []
  },
  {
   "cell_type": "code",
   "execution_count": null,
   "metadata": {},
   "outputs": [],
   "source": []
  }
 ],
 "metadata": {
  "kernelspec": {
   "display_name": "Python 3",
   "language": "python",
   "name": "python3"
  },
  "language_info": {
   "codemirror_mode": {
    "name": "ipython",
    "version": 3
   },
   "file_extension": ".py",
   "mimetype": "text/x-python",
   "name": "python",
   "nbconvert_exporter": "python",
   "pygments_lexer": "ipython3",
   "version": "3.8.5"
  }
 },
 "nbformat": 4,
 "nbformat_minor": 4
}
