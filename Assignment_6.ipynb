{
 "cells": [
  {
   "cell_type": "markdown",
   "metadata": {},
   "source": [
    "1.What are escape characters, and how do you use them?\n",
    "Ans:- To insert characters that are not permisible in a string we use an escape character.An escape character is a backslash \"\\\" followed by the character we want to insert.\n",
    "\\'    -single quote    -\n",
    "\\\\    -Backslash\n",
    "\\n    -New Line\n",
    "\\r    -Carriage Return \n",
    "\\t    -Tab\n",
    "\\b    -Tab\n",
    "\\f    -Backspace\n",
    "\\ooo  -Octal value \n",
    "\\xhh  -Hex value "
   ]
  },
  {
   "cell_type": "markdown",
   "metadata": {},
   "source": [
    "2.What do the escape characters n and t stand for?\n",
    "Ans:- \n",
    "\\n:- we use \\n for inserting a newline in the text at this point.\n",
    "\\t:-  we use \\t for tab in the code so it creates space between texts .\n",
    "example is given below"
   ]
  },
  {
   "cell_type": "code",
   "execution_count": 23,
   "metadata": {},
   "outputs": [
    {
     "name": "stdout",
     "output_type": "stream",
     "text": [
      "Data Science \n",
      " is good\n",
      "Data Science \t is good\n",
      "Data Science ' is good\n",
      "Data Science \\ is good\n",
      " is good\n",
      "Data Science \b is good\n",
      "Data Science \f",
      " is good\n"
     ]
    }
   ],
   "source": [
    "print(\"Data Science \\n is good\")\n",
    "print(\"Data Science \\t is good\")\n",
    "print(\"Data Science \\' is good\")\n",
    "print(\"Data Science \\\\ is good\")\n",
    "print(\"Data Science \\r is good\")\n",
    "print(\"Data Science \\b is good\")\n",
    "print(\"Data Science \\f is good\")"
   ]
  },
  {
   "cell_type": "markdown",
   "metadata": {},
   "source": [
    " 3.What is the way to include backslash characters in a string?\n",
    " Ans:-\n",
    " In Python strings, the backslash \"\\\" is a special character, also called the \"escape\" character. It is used in representing certain whitespace characters: \"\\t\" is a tab, \"\\n\" is a newline, and \"\\r\" is a carriage return.\n",
    " example has given in the Q(3)."
   ]
  },
  {
   "cell_type": "markdown",
   "metadata": {},
   "source": [
    "4.The string \"Howl's Moving Castle\" is a correct value. Why isn't the single quote character in the word Howl's not escaped a problem?\n",
    "Ans:-\n",
    "because it is quoted with double qoutes thats why it is not escaped a problem.example is given below-"
   ]
  },
  {
   "cell_type": "code",
   "execution_count": 25,
   "metadata": {},
   "outputs": [
    {
     "name": "stdout",
     "output_type": "stream",
     "text": [
      "Howl's Moving Castle\n"
     ]
    }
   ],
   "source": [
    "tx = \"Howl's Moving Castle\"\n",
    "print(tx)"
   ]
  },
  {
   "cell_type": "markdown",
   "metadata": {},
   "source": [
    "5.How do you write a string of newlines if you don&#39;t want to use the n character?\n",
    "Ans:- \n",
    "we can print strings without adding a new line with end = \"character\", which \"character\" is the character that will be used to separate the lines."
   ]
  },
  {
   "cell_type": "code",
   "execution_count": 32,
   "metadata": {},
   "outputs": [
    {
     "name": "stdout",
     "output_type": "stream",
     "text": [
      "data science is , good\n"
     ]
    }
   ],
   "source": [
    "print(\"data science is\", end=\" , \")\n",
    "print(\"good\")"
   ]
  },
  {
   "cell_type": "code",
   "execution_count": 38,
   "metadata": {},
   "outputs": [
    {
     "name": "stdout",
     "output_type": "stream",
     "text": [
      "e\n",
      "Hello\n",
      "Hello\n",
      "lo,world!\n"
     ]
    }
   ],
   "source": [
    "#6. What are the values of the given expressions?\n",
    "\n",
    "print(\"Hello,world!\"[1])\n",
    "print(\"Hello,world!\"[0:5])\n",
    "print(\"Hello,world!\"[:5])\n",
    "print(\"Hello,world!\"[3:])"
   ]
  },
  {
   "cell_type": "code",
   "execution_count": 41,
   "metadata": {},
   "outputs": [
    {
     "name": "stdout",
     "output_type": "stream",
     "text": [
      "HELLO\n",
      "True\n",
      "hello\n"
     ]
    }
   ],
   "source": [
    "#7. What are the values of the following expressions?\n",
    "\n",
    "print('Hello'.upper())\n",
    "print('Hello'.upper().isupper())\n",
    "print('Hello'.upper().lower())"
   ]
  },
  {
   "cell_type": "code",
   "execution_count": 43,
   "metadata": {},
   "outputs": [
    {
     "name": "stdout",
     "output_type": "stream",
     "text": [
      "['Remember,', 'remember,', 'the', 'fifth', 'of', 'July.']\n",
      "There-can-only-one.\n"
     ]
    }
   ],
   "source": [
    "#8. What are the values of the following expressions?\n",
    "print('Remember, remember, the fifth of July.'.split())\n",
    "print('-'.join('There can only one.'.split()))"
   ]
  },
  {
   "cell_type": "markdown",
   "metadata": {},
   "source": [
    "9.What are the methods for right-justifying, left-justifying, and centering a string?\n",
    "Ans:-\n",
    "right-justifying = The string rjust() method returns a right-justified string of a given minimum width.\n",
    "left-justifying = The string ljust() method returns a left-justified string of a given minimum width.\n",
    "centering = The center() method returns a string which is padded with the specified character.\n",
    "examples are given below-"
   ]
  },
  {
   "cell_type": "code",
   "execution_count": 58,
   "metadata": {},
   "outputs": [
    {
     "name": "stdout",
     "output_type": "stream",
     "text": [
      "***********DataScience\n",
      "DataScience***********\n",
      "*****DataScience******\n"
     ]
    }
   ],
   "source": [
    "string = 'DataScience'\n",
    "width = 22\n",
    "fillchar = '*'\n",
    "\n",
    "# print right justified string\n",
    "print(string.rjust(width, fillchar))\n",
    "\n",
    "# print left justified string\n",
    "print(string.ljust(width, fillchar))\n",
    "\n",
    "# print center justified string\n",
    "print(string.center(width, fillchar))"
   ]
  },
  {
   "cell_type": "markdown",
   "metadata": {},
   "source": [
    "10.What is the best way to remove whitespace characters from the start or end?\n",
    "Ans:-\n",
    "rstrip() = these method removes whitespace at the end of a string.\n",
    "lstrip() = these method removes whitespace at the beginning of a string.\n",
    "examples are given below:-"
   ]
  },
  {
   "cell_type": "code",
   "execution_count": 63,
   "metadata": {},
   "outputs": [
    {
     "name": "stdout",
     "output_type": "stream",
     "text": [
      "       DataScience      \n",
      "DataScience      \n",
      "       DataScience\n"
     ]
    }
   ],
   "source": [
    "string =  \"       DataScience      \"\n",
    "print(string)\n",
    "print(string.lstrip())\n",
    "print(string.rstrip())"
   ]
  },
  {
   "cell_type": "code",
   "execution_count": null,
   "metadata": {},
   "outputs": [],
   "source": []
  },
  {
   "cell_type": "code",
   "execution_count": null,
   "metadata": {},
   "outputs": [],
   "source": []
  },
  {
   "cell_type": "code",
   "execution_count": null,
   "metadata": {},
   "outputs": [],
   "source": []
  },
  {
   "cell_type": "code",
   "execution_count": null,
   "metadata": {},
   "outputs": [],
   "source": []
  },
  {
   "cell_type": "code",
   "execution_count": null,
   "metadata": {},
   "outputs": [],
   "source": []
  },
  {
   "cell_type": "code",
   "execution_count": null,
   "metadata": {},
   "outputs": [],
   "source": []
  },
  {
   "cell_type": "code",
   "execution_count": null,
   "metadata": {},
   "outputs": [],
   "source": []
  },
  {
   "cell_type": "code",
   "execution_count": null,
   "metadata": {},
   "outputs": [],
   "source": []
  },
  {
   "cell_type": "code",
   "execution_count": null,
   "metadata": {},
   "outputs": [],
   "source": []
  },
  {
   "cell_type": "code",
   "execution_count": null,
   "metadata": {},
   "outputs": [],
   "source": []
  },
  {
   "cell_type": "code",
   "execution_count": null,
   "metadata": {},
   "outputs": [],
   "source": []
  },
  {
   "cell_type": "code",
   "execution_count": null,
   "metadata": {},
   "outputs": [],
   "source": []
  },
  {
   "cell_type": "code",
   "execution_count": null,
   "metadata": {},
   "outputs": [],
   "source": []
  },
  {
   "cell_type": "code",
   "execution_count": null,
   "metadata": {},
   "outputs": [],
   "source": []
  },
  {
   "cell_type": "code",
   "execution_count": null,
   "metadata": {},
   "outputs": [],
   "source": []
  },
  {
   "cell_type": "code",
   "execution_count": null,
   "metadata": {},
   "outputs": [],
   "source": []
  }
 ],
 "metadata": {
  "kernelspec": {
   "display_name": "Python 3",
   "language": "python",
   "name": "python3"
  },
  "language_info": {
   "codemirror_mode": {
    "name": "ipython",
    "version": 3
   },
   "file_extension": ".py",
   "mimetype": "text/x-python",
   "name": "python",
   "nbconvert_exporter": "python",
   "pygments_lexer": "ipython3",
   "version": "3.8.5"
  }
 },
 "nbformat": 4,
 "nbformat_minor": 4
}
