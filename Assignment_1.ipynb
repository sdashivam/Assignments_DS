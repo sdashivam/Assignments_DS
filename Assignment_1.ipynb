{
 "cells": [
  {
   "cell_type": "markdown",
   "metadata": {},
   "source": [
    "1.What are the differences between operators and values in the following?\n",
    "Ans:- \n",
    "\n",
    "Operators=> operators are used to perform operations on variables and values.python divides the operators in the following        groups: Arithmetic operators, Assignment operators, Comparison operators, Logical operators, Identity operators, Membership operators, Bitwise operators\n",
    "\n",
    "Values=> A value is one of the fundamental things — like a letter or a number — that a program manipulates.values are           grouped into different data types or classes.\n",
    "\n",
    "\n",
    "*      => multiplication opeartor used for multiplication operation between two variables.\n",
    "'hello'=> is a string, so-called because it contains a string of letters and surrounded by either single quotation marks, or               double quotation marks.\n",
    "-87.8  => negative integer. Int or integer is a whole number,positive or negative without decimals of unlimited length.\n",
    "-      => Subtraction operator used for mathmetical subtraction operation.\n",
    "/      => Division operator used for mathmetical division operation.\n",
    "+      => Addition operator used for mathmetical addition operation.\n",
    "6      => positive integer"
   ]
  },
  {
   "cell_type": "code",
   "execution_count": 96,
   "metadata": {},
   "outputs": [
    {
     "name": "stdout",
     "output_type": "stream",
     "text": [
      "The addition operator : 26\n",
      "The subtraction operator : -2\n",
      "The multiplication operator : 168\n",
      "The division operator : 0.8571428571428571\n"
     ]
    }
   ],
   "source": [
    "A = 12\n",
    "B = 14\n",
    "print(\"The addition operator : \" + str(A+B))\n",
    "print(\"The subtraction operator : \" + str(A-B)) \n",
    "print(\"The multiplication operator : \" + str(A*B))\n",
    "print(\"The division operator : \" + str(A/B))"
   ]
  },
  {
   "cell_type": "markdown",
   "metadata": {},
   "source": [
    "2.What is the difference between string and variable?\n",
    "Ans:-\n",
    "String => Strings in python are surrounded by either single quotation marks, or double quotation marks.Like many other                    programming languages, strings in Python are arrays of bytes representing unicode characters.However, Python does not            have a character data type, a single character is simply a string with a length of 1. Square brackets can be used to            access elements of the string.\n",
    "Variable => Variables are containers for storing data values.\n",
    "\n",
    "in the following example we are performing two operations in (#1) we are assigning the value 123 to the variable data and as a output we are getting integer data type. on the other example (#2) we are assigning a string to a variable called date and we are getting str type output. we can't assign a string as a variable name otherwise we will get SyntaxError."
   ]
  },
  {
   "cell_type": "code",
   "execution_count": 73,
   "metadata": {},
   "outputs": [
    {
     "data": {
      "text/plain": [
       "int"
      ]
     },
     "execution_count": 73,
     "metadata": {},
     "output_type": "execute_result"
    }
   ],
   "source": [
    "#1.\n",
    "data = 123\n",
    "type(data)"
   ]
  },
  {
   "cell_type": "code",
   "execution_count": 75,
   "metadata": {},
   "outputs": [
    {
     "data": {
      "text/plain": [
       "str"
      ]
     },
     "execution_count": 75,
     "metadata": {},
     "output_type": "execute_result"
    }
   ],
   "source": [
    "#2.\n",
    "date = \"12 june 2019\"\n",
    "type(date)"
   ]
  },
  {
   "cell_type": "markdown",
   "metadata": {},
   "source": [
    "3.Describe three different data forms?\n",
    "Ans:-\n",
    "Variables can store data of different types, and different types can do different things.Python has the following data types built-in by default, in these categories:\n",
    "Text Type:\tstr\n",
    "Numeric Types:\tint, float, complex\n",
    "Sequence Types:\tlist, tuple, range\n",
    "Mapping Type:\tdict\n",
    "Set Types:\tset, frozenset\n",
    "Boolean Type:\tbool\n",
    "Binary Types:\tbytes, bytearray, memoryview\n",
    "we can get the data type of any object by using the type() function."
   ]
  },
  {
   "cell_type": "markdown",
   "metadata": {},
   "source": [
    "4.What makes up an expression? What are the functions of all expressions?\n",
    "Ans:-\n",
    "Expressions are representations of value. They are different from statement in the fact that statements do something while expressions are representation of value. For example any string is also an expressions since it represents the value of the string as well.\n",
    "\n",
    "Python has some advanced constructs through which we can represent values and hence these constructs are also called expressions.Python expressions only contain identifiers, literals, and operators.\n",
    "\n",
    "Identifiers: Any name that is used to define a class, function, variable module, or object is an identifier. \n",
    "Literals: These are language-independent terms in Python and should exist independently in any programming language. In Python, there are the string literals, byte literals, integer literals, floating point literals, and imaginary literals.\n",
    "Operators: In Python you can implement the following operations using the corresponding tokens.\n",
    "\n",
    "Following are a few types of python expressions:\n",
    "\n",
    "List comprehension\n",
    "Dictionary comprehension\n",
    "Generator expression\n",
    "Conditional expression\n"
   ]
  },
  {
   "cell_type": "code",
   "execution_count": 57,
   "metadata": {},
   "outputs": [
    {
     "data": {
      "text/plain": [
       "[0, 1, 2, 3, 4, 5, 6, 7, 8, 9]"
      ]
     },
     "execution_count": 57,
     "metadata": {},
     "output_type": "execute_result"
    }
   ],
   "source": [
    "# example for list comprhension\n",
    "[x for x in range(10)]"
   ]
  },
  {
   "cell_type": "code",
   "execution_count": 58,
   "metadata": {},
   "outputs": [
    {
     "data": {
      "text/plain": [
       "{0: 0, 1: 1, 2: 4, 3: 9, 4: 16}"
      ]
     },
     "execution_count": 58,
     "metadata": {},
     "output_type": "execute_result"
    }
   ],
   "source": [
    "#Dictionary comprehension\n",
    "{x:x**2 for x in range(5)}"
   ]
  },
  {
   "cell_type": "code",
   "execution_count": 60,
   "metadata": {},
   "outputs": [
    {
     "data": {
      "text/plain": [
       "[0, 1, 2, 3, 4, 5, 6, 7, 8, 9]"
      ]
     },
     "execution_count": 60,
     "metadata": {},
     "output_type": "execute_result"
    }
   ],
   "source": [
    "# Generator expression\n",
    "(x for x in range(10))\n",
    "list(x for x in range(10))"
   ]
  },
  {
   "cell_type": "code",
   "execution_count": 63,
   "metadata": {},
   "outputs": [
    {
     "data": {
      "text/plain": [
       "'1'"
      ]
     },
     "execution_count": 63,
     "metadata": {},
     "output_type": "execute_result"
    }
   ],
   "source": [
    "# conditional expression\n",
    "x = \"1\" if True else \"2\"\n",
    "x"
   ]
  },
  {
   "cell_type": "markdown",
   "metadata": {},
   "source": [
    "5.In this chapter, assignment statements such as spam = 10 were added. What is the difference between a declaration and an expression?\n",
    "\n",
    "Ans:-\n",
    "in python declaration is a statement, and statement is an instruction that the Python interpreter can execute. apart from assignment statement we also have while statements, for statements, if statements, and import statements. (There are other kinds too!)\n",
    "\n",
    "An expression is a combination of values, variables, operators, and calls to functions. Expressions need to be evaluated. If we ask Python to print an expression, the interpreter evaluates the expression and displays the result."
   ]
  },
  {
   "cell_type": "code",
   "execution_count": 37,
   "metadata": {},
   "outputs": [
    {
     "name": "stdout",
     "output_type": "stream",
     "text": [
      "spam\n"
     ]
    },
    {
     "data": {
      "text/plain": [
       "20"
      ]
     },
     "execution_count": 37,
     "metadata": {},
     "output_type": "execute_result"
    }
   ],
   "source": [
    "# A Statement is a action or a command that does something. Ex: If-Else,Loops..etc\n",
    "spam = 10\n",
    "if (spam>10):\n",
    "    print(\"not spam\") \n",
    "else:\n",
    "    print(\"spam\")\n",
    "    \n",
    "#A Expression is a combination of values, operators and literals which yields something.\n",
    "spams = 10+10\n",
    "spams"
   ]
  },
  {
   "cell_type": "code",
   "execution_count": 19,
   "metadata": {},
   "outputs": [
    {
     "data": {
      "text/plain": [
       "23"
      ]
     },
     "execution_count": 19,
     "metadata": {},
     "output_type": "execute_result"
    }
   ],
   "source": [
    "# 6. After running the following code, what does the variable bacon contain?\n",
    "bacon = 22\n",
    "bacon + 1\n",
    "# we got output as integer because we have assigned 22 value to the variable bacon and after that we are applying addition operation. and got 23 as an output."
   ]
  },
  {
   "cell_type": "code",
   "execution_count": 21,
   "metadata": {},
   "outputs": [
    {
     "data": {
      "text/plain": [
       "'spamspamspam'"
      ]
     },
     "execution_count": 21,
     "metadata": {},
     "output_type": "execute_result"
    }
   ],
   "source": [
    "# 7. What should the values of the following two terms be?\n",
    "\n",
    "'spam'+'spamspam'\n",
    "'spam'*3\n",
    "\n",
    "# so the output is 3 times 'spamspamspam'"
   ]
  },
  {
   "cell_type": "markdown",
   "metadata": {},
   "source": [
    "8.Why is it that eggs is a true variable name but 100 is not?\n",
    "Ans:-\n",
    "A variable is a unique identifier for a value. When we reference a variable, Python will read the value associated with that variable. Python uses an equals sign to assign values to a variable."
   ]
  },
  {
   "cell_type": "code",
   "execution_count": 68,
   "metadata": {},
   "outputs": [
    {
     "ename": "SyntaxError",
     "evalue": "cannot assign to literal (<ipython-input-68-b75d677dcfe6>, line 1)",
     "output_type": "error",
     "traceback": [
      "\u001b[1;36m  File \u001b[1;32m\"<ipython-input-68-b75d677dcfe6>\"\u001b[1;36m, line \u001b[1;32m1\u001b[0m\n\u001b[1;33m    \"eggs\" = 100\u001b[0m\n\u001b[1;37m    ^\u001b[0m\n\u001b[1;31mSyntaxError\u001b[0m\u001b[1;31m:\u001b[0m cannot assign to literal\n"
     ]
    }
   ],
   "source": [
    "#1.\n",
    "\"eggs\" = 100"
   ]
  },
  {
   "cell_type": "code",
   "execution_count": 69,
   "metadata": {},
   "outputs": [
    {
     "ename": "SyntaxError",
     "evalue": "cannot assign to literal (<ipython-input-69-235f62072e11>, line 1)",
     "output_type": "error",
     "traceback": [
      "\u001b[1;36m  File \u001b[1;32m\"<ipython-input-69-235f62072e11>\"\u001b[1;36m, line \u001b[1;32m1\u001b[0m\n\u001b[1;33m    100 = eggs\u001b[0m\n\u001b[1;37m    ^\u001b[0m\n\u001b[1;31mSyntaxError\u001b[0m\u001b[1;31m:\u001b[0m cannot assign to literal\n"
     ]
    }
   ],
   "source": [
    "#2.\n",
    "100 = eggs"
   ]
  },
  {
   "cell_type": "code",
   "execution_count": 71,
   "metadata": {},
   "outputs": [
    {
     "data": {
      "text/plain": [
       "100"
      ]
     },
     "execution_count": 71,
     "metadata": {},
     "output_type": "execute_result"
    }
   ],
   "source": [
    "#3.\n",
    "eggs = 100\n",
    "eggs\n"
   ]
  },
  {
   "cell_type": "markdown",
   "metadata": {},
   "source": [
    "from the above lines of code it is clear that when we try to assign a values, variables cannot be assigned to literal values like strings and integers(#1 and #2)as a result we got SyntaxError. but when  we try to assign a value with variable eggs (#3) python will read the value associated with that variable and we can execute the code without any error. Variables are containers for values. They are not values in themselves. This means we cannot give a variable a name that is equal to a value. If variable names could be equal to a value, Python would not be able to distinguish variables from values. Variables cannot be strings, booleans, or any other data type. They must be declared using the syntax that we discussed above."
   ]
  },
  {
   "cell_type": "markdown",
   "metadata": {},
   "source": [
    "9.Which of the following three functions may be used to convert a value to an integer, a floating-point number, or a string?\n",
    "Ans:-\n",
    "for converting a value into integer we used int() function, for floating-point number float() funtion, and for string we use str() function.in the given below example first(#1) we are assigning the value 12 to the variable bacon and these time the type is int. in #2 example we are doing typecasting for bacon and assigning the value to the bacons and now the data type has converted into float. and in the #3 example we are converting bacons into string using str() and now the data type is string for bcn. "
   ]
  },
  {
   "cell_type": "code",
   "execution_count": 93,
   "metadata": {},
   "outputs": [
    {
     "name": "stdout",
     "output_type": "stream",
     "text": [
      "<class 'int'>\n",
      "<class 'float'>\n",
      "<class 'str'>\n"
     ]
    }
   ],
   "source": [
    "#1.\n",
    "bacon = 12\n",
    "print(type(bacon))\n",
    "\n",
    "#2.\n",
    "bacons = float(bacon)\n",
    "print(type(bacons))\n",
    "\n",
    "#3.\n",
    "bcn = str(bacons)\n",
    "print(type(bcn))"
   ]
  },
  {
   "cell_type": "code",
   "execution_count": 95,
   "metadata": {},
   "outputs": [
    {
     "data": {
      "text/plain": [
       "'I have eaten 99 burritos'"
      ]
     },
     "execution_count": 95,
     "metadata": {},
     "output_type": "execute_result"
    }
   ],
   "source": [
    "#10. What is the error caused by this expression? What would you do about it?\n",
    "\n",
    " # 'I have eaten' + 99 + 'burritos'\n",
    "\n",
    "# Ans:- while executing the above line of code we are getting an error as 'can only concatenate str(not \"int\") to str' that is caused by because we are tring to performe addition b/w int and str, to resolve these error we have to do typecasting with that we can remove it.\n",
    "\n",
    "output = 'I have eaten ' + str(99) + ' burritos'\n",
    "output"
   ]
  },
  {
   "cell_type": "code",
   "execution_count": null,
   "metadata": {},
   "outputs": [],
   "source": []
  },
  {
   "cell_type": "code",
   "execution_count": null,
   "metadata": {},
   "outputs": [],
   "source": []
  },
  {
   "cell_type": "code",
   "execution_count": null,
   "metadata": {},
   "outputs": [],
   "source": []
  },
  {
   "cell_type": "code",
   "execution_count": null,
   "metadata": {},
   "outputs": [],
   "source": []
  },
  {
   "cell_type": "code",
   "execution_count": null,
   "metadata": {},
   "outputs": [],
   "source": []
  },
  {
   "cell_type": "code",
   "execution_count": null,
   "metadata": {},
   "outputs": [],
   "source": []
  },
  {
   "cell_type": "code",
   "execution_count": null,
   "metadata": {},
   "outputs": [],
   "source": []
  },
  {
   "cell_type": "code",
   "execution_count": null,
   "metadata": {},
   "outputs": [],
   "source": []
  },
  {
   "cell_type": "code",
   "execution_count": null,
   "metadata": {},
   "outputs": [],
   "source": []
  },
  {
   "cell_type": "code",
   "execution_count": null,
   "metadata": {},
   "outputs": [],
   "source": []
  }
 ],
 "metadata": {
  "kernelspec": {
   "display_name": "Python 3",
   "language": "python",
   "name": "python3"
  },
  "language_info": {
   "codemirror_mode": {
    "name": "ipython",
    "version": 3
   },
   "file_extension": ".py",
   "mimetype": "text/x-python",
   "name": "python",
   "nbconvert_exporter": "python",
   "pygments_lexer": "ipython3",
   "version": "3.8.5"
  }
 },
 "nbformat": 4,
 "nbformat_minor": 4
}
