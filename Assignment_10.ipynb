{
 "cells": [
  {
   "cell_type": "markdown",
   "metadata": {},
   "source": [
    "1. How do you distinguish between shutil.copy() and shutil.copytree()?\n",
    "Ans:-\n",
    "shutil.copy() -- Copies the file src to the file or directory dst. src and dst should be path-like objects or strings. If dst specifies a directory, the file will be copied into dst using the base filename from src. Returns the path to the newly created file.\n",
    "\n",
    "shutil.copytree() -- Recursively copy an entire directory tree rooted at src to a directory named dst and return the destination directory. dirs_exist_ok dictates whether to raise an exception in case dst or any missing parent directory already exists. it means that we used these method to copy file from source to destination.\n",
    "\n",
    "example is given below:-"
   ]
  },
  {
   "cell_type": "code",
   "execution_count": 50,
   "metadata": {},
   "outputs": [
    {
     "name": "stdout",
     "output_type": "stream",
     "text": [
      "['.ipynb_checkpoints', 'logtests', 'source', 'test.log.txt', 'test12.txt', 'test13.txt']\n",
      "['.ipynb_checkpoints', 'destination', 'logtests', 'source', 'test.log.txt', 'test12.txt', 'test13.txt']\n",
      "Destination path: D:\\ML_ineuron_course\\Notebooks\\logfile\\destination\n"
     ]
    }
   ],
   "source": [
    "## here we are going to use copytree() method with the help of that we will copy the whole destination\n",
    "\n",
    "import os\n",
    "import shutil as stl\n",
    " \n",
    "print(os.listdir())\n",
    "\n",
    "path = \"D:\\\\ML_ineuron_course\\\\Notebooks\\\\logfile\"\n",
    "src = \"D:\\\\ML_ineuron_course\\\\Notebooks\\\\logfile\\\\source\"\n",
    "dest = \"D:\\\\ML_ineuron_course\\\\Notebooks\\\\logfile\\\\destination\"\n",
    "\n",
    "destination = stl.copytree(src, dest)\n",
    "print(os.listdir(path))\n",
    "\n",
    "print(\"Destination path:\",destination)"
   ]
  },
  {
   "cell_type": "code",
   "execution_count": 52,
   "metadata": {},
   "outputs": [
    {
     "name": "stdout",
     "output_type": "stream",
     "text": [
      "['INFO:root:this is start function\\n', 'INFO:root:this is start function\\n', 'INFO:root:this is info log\\n', 'WARNING:root:this is warning log\\n', 'ERROR:root:this is error log\\n', 'ERROR:root:this is exception log\\n', 'NoneType: None\\n', 'CRITICAL:root:this is critical log\\n']\n"
     ]
    }
   ],
   "source": [
    "## here we will be copying the content from one file to another file with the help of copy() method\n",
    "## our source file is test12.txt and destination file is test.log.txt\n",
    "## where we will be copying the content from test12.txt to test.log.txt\n",
    "\n",
    "\n",
    "file = open('test12.txt',\"r+\")\n",
    "line = file.readlines()\n",
    "print(line)\n",
    "file.close()"
   ]
  },
  {
   "cell_type": "code",
   "execution_count": 53,
   "metadata": {},
   "outputs": [
    {
     "name": "stdout",
     "output_type": "stream",
     "text": [
      "['adsds 123 gdhdhgf 55786xaserr td dfd 123 gfda svfda 234m rt 66']\n"
     ]
    }
   ],
   "source": [
    "file = open('test.log.txt',\"r+\")\n",
    "line = file.readlines()\n",
    "print(line)\n",
    "file.close()"
   ]
  },
  {
   "cell_type": "code",
   "execution_count": 54,
   "metadata": {},
   "outputs": [
    {
     "name": "stdout",
     "output_type": "stream",
     "text": [
      "Before copying file:\n",
      "['.ipynb_checkpoints', 'destination', 'logtests', 'source', 'test.log.txt', 'test12.txt', 'test13.txt']\n",
      "File Permission Mode: 33206 \n",
      "\n",
      "After copying file:\n",
      "['.ipynb_checkpoints', 'destination', 'logtests', 'source', 'test.log.txt', 'test12.txt', 'test13.txt']\n",
      "File Permission mode: 33206\n",
      "Destination path: D:\\ML_ineuron_course\\Notebooks\\logfile\\test.log.txt\n"
     ]
    }
   ],
   "source": [
    "source = \"D:\\\\ML_ineuron_course\\\\Notebooks\\\\logfile\\\\test12.txt\"\n",
    "destination = \"D:\\\\ML_ineuron_course\\\\Notebooks\\\\logfile\\\\test.log.txt\"\n",
    "print(\"Before copying file:\")\n",
    "print(os.listdir())\n",
    "\n",
    "\n",
    "perm = os.stat(source).st_mode\n",
    "print(\"File Permission Mode:\", perm, '\\n')\n",
    "\n",
    "dest = stl.copy(source, destination)\n",
    "print(\"After copying file:\")\n",
    "print(os.listdir())\n",
    "\n",
    "\n",
    "perm = os.stat(destination).st_mode\n",
    "print(\"File Permission mode:\", perm)\n",
    "print(\"Destination path:\", dest)"
   ]
  },
  {
   "cell_type": "code",
   "execution_count": 55,
   "metadata": {},
   "outputs": [
    {
     "name": "stdout",
     "output_type": "stream",
     "text": [
      "['INFO:root:this is start function\\n', 'INFO:root:this is start function\\n', 'INFO:root:this is info log\\n', 'WARNING:root:this is warning log\\n', 'ERROR:root:this is error log\\n', 'ERROR:root:this is exception log\\n', 'NoneType: None\\n', 'CRITICAL:root:this is critical log\\n']\n"
     ]
    }
   ],
   "source": [
    "file = open(\"test.log.txt\",\"r+\")\n",
    "line = file.readlines()\n",
    "print(line)\n",
    "file.close()"
   ]
  },
  {
   "cell_type": "markdown",
   "metadata": {},
   "source": [
    "2. What function is used to rename files??\n",
    "Ans:-\n",
    "for that we use os.rename() method. example is given below:-"
   ]
  },
  {
   "cell_type": "code",
   "execution_count": 56,
   "metadata": {},
   "outputs": [
    {
     "name": "stdout",
     "output_type": "stream",
     "text": [
      "['.ipynb_checkpoints', 'destination', 'logtests', 'source', 'test.log.txt', 'test12.txt', 'test_renamed.txt']\n"
     ]
    }
   ],
   "source": [
    "source = \"test13.txt\"\n",
    "destination = \"test_renamed.txt\"\n",
    "\n",
    "os.rename(source,destination)\n",
    "print(os.listdir())"
   ]
  },
  {
   "cell_type": "markdown",
   "metadata": {},
   "source": [
    "3. What is the difference between the delete functions in the send2trash and shutil modules?\n",
    "Ans:-\n",
    "send2trash() -- this function accepts the location of the file or folder to be deleted.\n",
    "shutil modules -- shutil.rmtree() is used to delete an entire directory tree, path must point to a directory.\n",
    "The send2trash functions will move a file or folder to the recycle bin, while shutil functions will permanently delete files and folders."
   ]
  },
  {
   "cell_type": "code",
   "execution_count": 59,
   "metadata": {},
   "outputs": [
    {
     "name": "stdout",
     "output_type": "stream",
     "text": [
      "deleted :  D:\\ML_ineuron_course\\Notebooks\\logfile\\test.log.txt\n",
      "deleted :  D:\\ML_ineuron_course\\Notebooks\\logfile\\test12.txt\n",
      "deleted :  D:\\ML_ineuron_course\\Notebooks\\logfile\\test_renamed.txt\n",
      "deleted :  D:\\ML_ineuron_course\\Notebooks\\logfile\\logtests\\logtests1.txt\n",
      "deleted :  D:\\ML_ineuron_course\\Notebooks\\logfile\\logtests\\logtests10.txt\n",
      "deleted :  D:\\ML_ineuron_course\\Notebooks\\logfile\\logtests\\logtests2.txt\n",
      "deleted :  D:\\ML_ineuron_course\\Notebooks\\logfile\\logtests\\logtests3.txt\n",
      "deleted :  D:\\ML_ineuron_course\\Notebooks\\logfile\\logtests\\logtests4.txt\n",
      "deleted :  D:\\ML_ineuron_course\\Notebooks\\logfile\\logtests\\logtests5.txt\n",
      "deleted :  D:\\ML_ineuron_course\\Notebooks\\logfile\\logtests\\logtests6.txt\n",
      "deleted :  D:\\ML_ineuron_course\\Notebooks\\logfile\\logtests\\logtests7.txt\n",
      "deleted :  D:\\ML_ineuron_course\\Notebooks\\logfile\\logtests\\logtests8.txt\n",
      "deleted :  D:\\ML_ineuron_course\\Notebooks\\logfile\\logtests\\logtests9.txt\n",
      "deleted :  D:\\ML_ineuron_course\\Notebooks\\logfile\\logtests\\newtest.txt\n",
      "deleted :  D:\\ML_ineuron_course\\Notebooks\\logtests\\newtest.txt\n",
      "['.ipynb_checkpoints', 'destination', 'logtests', 'source', 'test.log.txt', 'test12.txt', 'test_renamed.txt']\n"
     ]
    }
   ],
   "source": [
    "import os\n",
    "import send2trash\n",
    "\n",
    "for folder, subfolders, files in os.walk(\"D:\\\\ML_ineuron_course\\\\Notebooks\"):\n",
    "      for file in files:\n",
    "        if file.endswith('.txt'):\n",
    "            path = os.path.join(folder, file)\n",
    "            print('deleted : ', path )\n",
    "            send2trash.send2trash(path)\n",
    "            \n",
    "            \n",
    "print(os.listdir())"
   ]
  },
  {
   "cell_type": "code",
   "execution_count": 64,
   "metadata": {},
   "outputs": [
    {
     "name": "stdout",
     "output_type": "stream",
     "text": [
      "['.ipynb_checkpoints', 'destination', 'logtests', 'test.log.txt', 'test12.txt', 'test_renamed.txt']\n"
     ]
    }
   ],
   "source": [
    "## with the help of .rmtree() method we will remove source folder\n",
    "\n",
    "location = \"D:\\\\ML_ineuron_course\\\\Notebooks\\\\logfile\"\n",
    "dir = \"source\"\n",
    "\n",
    "path = os.path.join(location, dir)\n",
    "stl.rmtree(path)\n",
    "print(os.listdir())"
   ]
  },
  {
   "cell_type": "markdown",
   "metadata": {},
   "source": [
    "4. ZipFile objects have a close() method just like File objects’ close() method. What ZipFile method is equivalent to File objects’ open() method?\n",
    "Ans:-\n",
    "for that we can use extractall() method, these method will extract all the contents of the zip file to the current working directory. we can also call extract() method to extract any file by specifying its path in the zip file."
   ]
  },
  {
   "cell_type": "code",
   "execution_count": 77,
   "metadata": {},
   "outputs": [
    {
     "name": "stdout",
     "output_type": "stream",
     "text": [
      "File Name                                             Modified             Size\n",
      "FIFA/                                          2019-12-19 18:49:24            0\n",
      "FIFA/img_club_logo.jpg                         2019-12-18 04:51:56         1980\n",
      "__MACOSX/                                      2019-12-19 18:51:00            0\n",
      "__MACOSX/FIFA/                                 2019-12-19 18:51:00            0\n",
      "__MACOSX/FIFA/._img_club_logo.jpg              2019-12-18 04:51:56          212\n",
      "FIFA/players.png                               2019-12-18 04:51:56       380669\n",
      "__MACOSX/FIFA/._players.png                    2019-12-18 04:51:56          212\n",
      "FIFA/FIFA 2019.ipynb                           2019-12-18 04:51:56      4820891\n",
      "__MACOSX/FIFA/._FIFA 2019.ipynb                2019-12-18 04:51:56          212\n",
      "FIFA/img_player.jpg                            2019-12-18 04:51:56         4569\n",
      "__MACOSX/FIFA/._img_player.jpg                 2019-12-18 04:51:56          212\n",
      "FIFA/img_flag.jpg                              2019-12-18 04:51:56          783\n",
      "__MACOSX/FIFA/._img_flag.jpg                   2019-12-18 04:51:56          212\n",
      "FIFA/graph.png                                 2019-12-18 04:51:56       287854\n",
      "__MACOSX/FIFA/._graph.png                      2019-12-18 04:51:56          212\n",
      "FIFA/.ipynb_checkpoints/                       2019-12-19 18:49:24            0\n",
      "FIFA/FIFA_data.csv                             2019-12-18 04:51:56      9140113\n",
      "__MACOSX/FIFA/._FIFA_data.csv                  2019-12-18 04:51:56          212\n",
      "__MACOSX/._FIFA                                2019-12-19 18:49:24          212\n",
      "Extracting all the files now....\n",
      "Extraction has been Compeleted..!!\n"
     ]
    }
   ],
   "source": [
    "from zipfile import ZipFile\n",
    "\n",
    "file_name = \"FIFA_EDA.zip\"\n",
    "\n",
    "with ZipFile(file_name,\"r\") as zip:\n",
    "    zip.printdir()\n",
    "    print(\"Extracting all the files now....\")\n",
    "    zip.extractall()\n",
    "    print(\"Extraction has been Compeleted..!!\")"
   ]
  },
  {
   "cell_type": "markdown",
   "metadata": {},
   "source": [
    "5. Create a programme that searches a folder tree for files with a certain file extension (such as .pdf or .jpg). Copy these files from whatever location they are in to a new folder.\n",
    "Ans:-\n"
   ]
  },
  {
   "cell_type": "code",
   "execution_count": 93,
   "metadata": {},
   "outputs": [
    {
     "name": "stdout",
     "output_type": "stream",
     "text": [
      "Looking In D:\\ML_ineuron_course\\Notebooks\\FIFA for files with extensions of .png, .jpg\n",
      "Copying D:\\ML_ineuron_course\\Notebooks\\FIFA\\graph.png to D:\\ML_ineuron_course\\Notebooks\\logfile\\logtests\n",
      "Copying D:\\ML_ineuron_course\\Notebooks\\FIFA\\img_club_logo.jpg to D:\\ML_ineuron_course\\Notebooks\\logfile\\logtests\n",
      "Copying D:\\ML_ineuron_course\\Notebooks\\FIFA\\img_flag.jpg to D:\\ML_ineuron_course\\Notebooks\\logfile\\logtests\n",
      "Copying D:\\ML_ineuron_course\\Notebooks\\FIFA\\img_player.jpg to D:\\ML_ineuron_course\\Notebooks\\logfile\\logtests\n",
      "Copying D:\\ML_ineuron_course\\Notebooks\\FIFA\\players.png to D:\\ML_ineuron_course\\Notebooks\\logfile\\logtests\n"
     ]
    }
   ],
   "source": [
    "def seefold(folder, extensions, destFolder):\n",
    "    folder = os.path.abspath(folder)\n",
    "    destFolder = os.path.abspath(destFolder)\n",
    "    print(\"Looking In\", folder, \"for files with extensions of\", ', '.join(extensions))\n",
    "    for foldername, subfolders, filenames in os.walk(folder):\n",
    "        for filename in filenames:\n",
    "            name, extension = os.path.splitext(filename)\n",
    "            if extension in extensions:\n",
    "                fileAbsPath = foldername + os.path.sep + filename\n",
    "                print('Copying', fileAbsPath, \"to\", destFolder)\n",
    "                stl.copy(fileAbsPath, destFolder)\n",
    "\n",
    "extensions = ['.png','.jpg']\n",
    "folder = 'D:\\\\ML_ineuron_course\\\\Notebooks\\\\FIFA'\n",
    "destFolder = 'logtests'\n",
    "seefold(folder, extensions, destFolder)"
   ]
  },
  {
   "cell_type": "code",
   "execution_count": 94,
   "metadata": {},
   "outputs": [
    {
     "data": {
      "text/plain": [
       "'D:\\\\ML_ineuron_course\\\\Notebooks\\\\logfile'"
      ]
     },
     "execution_count": 94,
     "metadata": {},
     "output_type": "execute_result"
    }
   ],
   "source": [
    "os.getcwd()"
   ]
  },
  {
   "cell_type": "code",
   "execution_count": 95,
   "metadata": {},
   "outputs": [],
   "source": [
    "os.chdir(\"D:\\\\ML_ineuron_course\\\\Notebooks\\\\logfile\\\\logtests\")"
   ]
  },
  {
   "cell_type": "code",
   "execution_count": 96,
   "metadata": {},
   "outputs": [
    {
     "data": {
      "text/plain": [
       "['graph.png',\n",
       " 'img_club_logo.jpg',\n",
       " 'img_flag.jpg',\n",
       " 'img_player.jpg',\n",
       " 'logtests1.txt',\n",
       " 'logtests10.txt',\n",
       " 'logtests2.txt',\n",
       " 'logtests3.txt',\n",
       " 'logtests4.txt',\n",
       " 'logtests5.txt',\n",
       " 'logtests6.txt',\n",
       " 'logtests7.txt',\n",
       " 'logtests8.txt',\n",
       " 'logtests9.txt',\n",
       " 'newtest.txt',\n",
       " 'players.png']"
      ]
     },
     "execution_count": 96,
     "metadata": {},
     "output_type": "execute_result"
    }
   ],
   "source": [
    "os.listdir()"
   ]
  },
  {
   "cell_type": "code",
   "execution_count": null,
   "metadata": {},
   "outputs": [],
   "source": []
  },
  {
   "cell_type": "code",
   "execution_count": null,
   "metadata": {},
   "outputs": [],
   "source": []
  },
  {
   "cell_type": "code",
   "execution_count": null,
   "metadata": {},
   "outputs": [],
   "source": []
  },
  {
   "cell_type": "code",
   "execution_count": null,
   "metadata": {},
   "outputs": [],
   "source": []
  },
  {
   "cell_type": "code",
   "execution_count": null,
   "metadata": {},
   "outputs": [],
   "source": []
  }
 ],
 "metadata": {
  "kernelspec": {
   "display_name": "Python 3",
   "language": "python",
   "name": "python3"
  },
  "language_info": {
   "codemirror_mode": {
    "name": "ipython",
    "version": 3
   },
   "file_extension": ".py",
   "mimetype": "text/x-python",
   "name": "python",
   "nbconvert_exporter": "python",
   "pygments_lexer": "ipython3",
   "version": "3.8.5"
  }
 },
 "nbformat": 4,
 "nbformat_minor": 4
}
