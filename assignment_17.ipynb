{
  "nbformat": 4,
  "nbformat_minor": 0,
  "metadata": {
    "colab": {
      "name": "assignment17.ipynb",
      "provenance": [],
      "collapsed_sections": []
    },
    "kernelspec": {
      "name": "python3",
      "display_name": "Python 3"
    },
    "language_info": {
      "name": "python"
    }
  },
  "cells": [
    {
      "cell_type": "code",
      "metadata": {
        "colab": {
          "base_uri": "https://localhost:8080/"
        },
        "id": "KEmERsJYLOe-",
        "outputId": "5e049010-7a53-4e7d-9699-a718a468197d"
      },
      "source": [
        "### Question 1 \n",
        " \n",
        "guess_me = int(input('enter the number : '))\n",
        "if guess_me < 7:\n",
        "  print('too_low')\n",
        "elif guess_me == 7:\n",
        "  print('just_right')\n",
        "else:\n",
        "  print('too_high')"
      ],
      "execution_count": 13,
      "outputs": [
        {
          "output_type": "stream",
          "text": [
            "enter the number : 7\n",
            "just_right\n"
          ],
          "name": "stdout"
        }
      ]
    },
    {
      "cell_type": "code",
      "metadata": {
        "colab": {
          "base_uri": "https://localhost:8080/"
        },
        "id": "FFMI6Z59LoXT",
        "outputId": "5392f885-91c2-4765-93cc-a7d2946a9c2d"
      },
      "source": [
        "### Question 2\n",
        "\n",
        "guess_me = int(input('enter the number for guess_me : '))\n",
        "start = int(input('enter the number for start : '))\n",
        "while start < guess_me:\n",
        "  print(\"too_low\") \n",
        "  break\n",
        "else:\n",
        "  if start == guess_me:\n",
        "    print(\"found it\")\n",
        "  else:\n",
        "    print(\"oops\")"
      ],
      "execution_count": 28,
      "outputs": [
        {
          "output_type": "stream",
          "text": [
            "enter the number for guess_me : 7\n",
            "enter the number for start : 1\n",
            "too_low\n"
          ],
          "name": "stdout"
        }
      ]
    },
    {
      "cell_type": "code",
      "metadata": {
        "colab": {
          "base_uri": "https://localhost:8080/"
        },
        "id": "eRDmG_vYQVFl",
        "outputId": "d19a2a3a-3409-483c-dc14-8bdd88b72c10"
      },
      "source": [
        "### Question 3\n",
        "\n",
        "lst = list(range(int(input('enter the range '))))\n",
        "rev_lst = []\n",
        "for i in reversed(lst):\n",
        "  rev_lst.append(i)\n",
        "print(rev_lst)"
      ],
      "execution_count": 52,
      "outputs": [
        {
          "output_type": "stream",
          "text": [
            "enter the range 4\n",
            "[3, 2, 1, 0]\n"
          ],
          "name": "stdout"
        }
      ]
    },
    {
      "cell_type": "code",
      "metadata": {
        "colab": {
          "base_uri": "https://localhost:8080/"
        },
        "id": "KNu8zYOAQ-6P",
        "outputId": "fc490c62-8906-4ca6-9dfd-79d7eb4b67ff"
      },
      "source": [
        "### Question 4\n",
        "print([i for i in list(range(int(input('enter the range ')))) if i%2==0])"
      ],
      "execution_count": 57,
      "outputs": [
        {
          "output_type": "stream",
          "text": [
            "enter the range 10\n",
            "[0, 2, 4, 6, 8]\n"
          ],
          "name": "stdout"
        }
      ]
    },
    {
      "cell_type": "code",
      "metadata": {
        "colab": {
          "base_uri": "https://localhost:8080/"
        },
        "id": "sw64V55dSf2V",
        "outputId": "74a0b90f-6a40-4c34-d29f-a4fd2bdb4798"
      },
      "source": [
        "### Question 5\n",
        "keys = list(range(int(input('enter the range '))))\n",
        "print({vals:vals**2 for vals in keys})"
      ],
      "execution_count": 60,
      "outputs": [
        {
          "output_type": "stream",
          "text": [
            "enter the range 10\n",
            "{0: 0, 1: 1, 2: 4, 3: 9, 4: 16, 5: 25, 6: 36, 7: 49, 8: 64, 9: 81}\n"
          ],
          "name": "stdout"
        }
      ]
    },
    {
      "cell_type": "code",
      "metadata": {
        "colab": {
          "base_uri": "https://localhost:8080/"
        },
        "id": "61_5S0jmS6zJ",
        "outputId": "0d095887-7c8e-4ef1-dc9d-2596c8040a23"
      },
      "source": [
        "### Question 6\n",
        "{s for s in list(range(int(input('enter the range ')))) if s%2!=0}"
      ],
      "execution_count": 66,
      "outputs": [
        {
          "output_type": "stream",
          "text": [
            "enter the range 10\n"
          ],
          "name": "stdout"
        },
        {
          "output_type": "execute_result",
          "data": {
            "text/plain": [
              "{1, 3, 5, 7, 9}"
            ]
          },
          "metadata": {
            "tags": []
          },
          "execution_count": 66
        }
      ]
    },
    {
      "cell_type": "code",
      "metadata": {
        "colab": {
          "base_uri": "https://localhost:8080/"
        },
        "id": "SKnMOCGmV8fN",
        "outputId": "0c00fd01-0a0c-4daf-eda8-62e7cac837f3"
      },
      "source": [
        "### Question 7\n",
        "input_list = list(range(int(input('enter the range '))))\n",
        "  \n",
        "output_gen = (var for var in input_list if var % 2 == 0)\n",
        "  \n",
        "print(\"Output values using generator comprehensions:\", end = ' ')\n",
        "  \n",
        "for var in output_gen:\n",
        "    print(var, end = ' ')"
      ],
      "execution_count": 67,
      "outputs": [
        {
          "output_type": "stream",
          "text": [
            "enter the range 10\n",
            "Output values using generator comprehensions: 0 2 4 6 8 "
          ],
          "name": "stdout"
        }
      ]
    },
    {
      "cell_type": "code",
      "metadata": {
        "id": "Cth-bw5CZT9n"
      },
      "source": [
        "### Question 8\n",
        "def good():\n",
        "  lst2 = [item for item in input(\"Enter the list items : \").split()]\n",
        "  return lst2"
      ],
      "execution_count": 101,
      "outputs": []
    },
    {
      "cell_type": "code",
      "metadata": {
        "colab": {
          "base_uri": "https://localhost:8080/"
        },
        "id": "HTSVjfZCbKVV",
        "outputId": "df0ce1e0-14ff-4e81-9cb1-32f85d2bd2da"
      },
      "source": [
        "good()"
      ],
      "execution_count": 102,
      "outputs": [
        {
          "output_type": "stream",
          "text": [
            "Enter the list items : Harry, Ron, Hermione\n"
          ],
          "name": "stdout"
        },
        {
          "output_type": "execute_result",
          "data": {
            "text/plain": [
              "['Harry,', 'Ron,', 'Hermione']"
            ]
          },
          "metadata": {
            "tags": []
          },
          "execution_count": 102
        }
      ]
    },
    {
      "cell_type": "code",
      "metadata": {
        "id": "6PWOFGbTXMdr"
      },
      "source": [
        "### Question 9\n",
        "def get_odds():\n",
        "  x = list(range(int(input('enter the range '))))\n",
        "  output_gen = (var for var in x if var % 2 != 0)\n",
        "  print(\"Output values using generator comprehensions:\", end = ' ')\n",
        "  for var in output_gen:\n",
        "    print(var, end = ' ')"
      ],
      "execution_count": 77,
      "outputs": []
    },
    {
      "cell_type": "code",
      "metadata": {
        "colab": {
          "base_uri": "https://localhost:8080/"
        },
        "id": "Vy4L1Kv3XrWY",
        "outputId": "8f89c8f9-7a47-4e17-dbb5-1e8b31ad9e5f"
      },
      "source": [
        "get_odds()"
      ],
      "execution_count": 78,
      "outputs": [
        {
          "output_type": "stream",
          "text": [
            "enter the range 10\n",
            "Output values using generator comprehensions: 1 3 5 7 9 "
          ],
          "name": "stdout"
        }
      ]
    },
    {
      "cell_type": "code",
      "metadata": {
        "colab": {
          "base_uri": "https://localhost:8080/"
        },
        "id": "Uf8raTLXba3D",
        "outputId": "54a4324d-5bc4-4200-edd2-1f79b0fdab8a"
      },
      "source": [
        "### Question 11\n",
        "titles = ['Creature of Habit', 'Crewel Fate']\n",
        "plots = ['A nun turns into a monster', 'A haunted yarn shop']   \n",
        "dit = dict(zip(titles, plots))\n",
        "print(dit)"
      ],
      "execution_count": 104,
      "outputs": [
        {
          "output_type": "stream",
          "text": [
            "{'Creature of Habit': 'A nun turns into a monster', 'Crewel Fate': 'A haunted yarn shop'}\n"
          ],
          "name": "stdout"
        }
      ]
    },
    {
      "cell_type": "code",
      "metadata": {
        "id": "Fpimnxx1cykQ"
      },
      "source": [
        ""
      ],
      "execution_count": null,
      "outputs": []
    }
  ]
}