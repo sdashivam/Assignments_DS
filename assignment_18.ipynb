{
  "nbformat": 4,
  "nbformat_minor": 0,
  "metadata": {
    "colab": {
      "name": "assignment17.ipynb",
      "provenance": [],
      "collapsed_sections": []
    },
    "kernelspec": {
      "name": "python3",
      "display_name": "Python 3"
    },
    "language_info": {
      "name": "python"
    }
  },
  "cells": [
    {
      "cell_type": "code",
      "metadata": {
        "id": "dLMKnKXdeouH"
      },
      "source": [
        "### Question 1 define a function \n",
        "def hours():\n",
        "  print('open 9-5 daily')"
      ],
      "execution_count": 105,
      "outputs": []
    },
    {
      "cell_type": "code",
      "metadata": {
        "colab": {
          "base_uri": "https://localhost:8080/"
        },
        "id": "Xg8qleqIgNuC",
        "outputId": "19b04f0e-1ae5-4e18-d358-9fad05688b73"
      },
      "source": [
        "### Created a zoo.py file \n",
        "import os\n",
        "os.listdir()"
      ],
      "execution_count": 113,
      "outputs": [
        {
          "output_type": "execute_result",
          "data": {
            "text/plain": [
              "['.config', 'zoo.py', '__pycache__', 'sample_data']"
            ]
          },
          "metadata": {
            "tags": []
          },
          "execution_count": 113
        }
      ]
    },
    {
      "cell_type": "code",
      "metadata": {
        "colab": {
          "base_uri": "https://localhost:8080/"
        },
        "id": "oLx-vvTPe02X",
        "outputId": "20fd4ff4-54b9-4e3f-c76f-0bde5b36f7cc"
      },
      "source": [
        "### Question 2 and 3 Importing zoo.py and calling hours function\n",
        "import zoo\n",
        "zoo.hours()"
      ],
      "execution_count": 114,
      "outputs": [
        {
          "output_type": "stream",
          "text": [
            "open 9-5 daily\n"
          ],
          "name": "stdout"
        }
      ]
    },
    {
      "cell_type": "code",
      "metadata": {
        "colab": {
          "base_uri": "https://localhost:8080/"
        },
        "id": "dvwrJwQyeoqs",
        "outputId": "26b422e7-1579-4329-eeab-0ba548d7e0f0"
      },
      "source": [
        "### Question 4 importing hours as info and call it\n",
        "from zoo import hours\n",
        "hours()"
      ],
      "execution_count": 116,
      "outputs": [
        {
          "output_type": "stream",
          "text": [
            "open 9-5 daily\n"
          ],
          "name": "stdout"
        }
      ]
    },
    {
      "cell_type": "code",
      "metadata": {
        "colab": {
          "base_uri": "https://localhost:8080/"
        },
        "id": "RsPfH5Eyeon8",
        "outputId": "45d9f45c-2e86-44f3-974d-fa52141d4cd1"
      },
      "source": [
        "### Question 5\n",
        "keys = ['a','b','c']\n",
        "vals = ['1','2','3']\n",
        "dit = dict(zip(keys, vals))\n",
        "print(dit)"
      ],
      "execution_count": 118,
      "outputs": [
        {
          "output_type": "stream",
          "text": [
            "{'a': '1', 'b': '2', 'c': '3'}\n"
          ],
          "name": "stdout"
        }
      ]
    },
    {
      "cell_type": "code",
      "metadata": {
        "colab": {
          "base_uri": "https://localhost:8080/"
        },
        "id": "wwy10tzmeolE",
        "outputId": "ce802faa-6858-488f-f166-f5189a15fa01"
      },
      "source": [
        "### Question 6\n",
        "\n",
        "# An OrderedDict is a dictionary subclass that remembers the order \n",
        "# that keys were first inserted. A regular dict doesn’t track the \n",
        "# insertion order, and iterating it gives the values in an arbitrary order.\n",
        "\n",
        "from collections import OrderedDict\n",
        "odit = OrderedDict(a=1, b=2, c=3)\n",
        "print(odit)"
      ],
      "execution_count": 121,
      "outputs": [
        {
          "output_type": "stream",
          "text": [
            "OrderedDict([('a', 1), ('b', 2), ('c', 3)])\n"
          ],
          "name": "stdout"
        }
      ]
    },
    {
      "cell_type": "code",
      "metadata": {
        "colab": {
          "base_uri": "https://localhost:8080/"
        },
        "id": "2XT97SWReoiV",
        "outputId": "f614a5b6-93cd-4c33-d9da-457c23a2df1f"
      },
      "source": [
        "### Question 7\n",
        "dict_of_lists = {'a'}\n",
        "dict_of_lists.add('something for a')\n",
        "print(dict_of_lists)"
      ],
      "execution_count": 127,
      "outputs": [
        {
          "output_type": "stream",
          "text": [
            "{'a', 'something for a'}\n"
          ],
          "name": "stdout"
        }
      ]
    },
    {
      "cell_type": "code",
      "metadata": {
        "id": "MCvnoPwJeofk"
      },
      "source": [
        ""
      ],
      "execution_count": 123,
      "outputs": []
    },
    {
      "cell_type": "code",
      "metadata": {
        "id": "Nhm_Cfgreocy"
      },
      "source": [
        ""
      ],
      "execution_count": null,
      "outputs": []
    },
    {
      "cell_type": "code",
      "metadata": {
        "id": "Lc-khzGIeoZ9"
      },
      "source": [
        ""
      ],
      "execution_count": null,
      "outputs": []
    },
    {
      "cell_type": "code",
      "metadata": {
        "id": "qasCUPXXeoW_"
      },
      "source": [
        ""
      ],
      "execution_count": null,
      "outputs": []
    },
    {
      "cell_type": "code",
      "metadata": {
        "id": "0ENULsbveoUE"
      },
      "source": [
        ""
      ],
      "execution_count": null,
      "outputs": []
    },
    {
      "cell_type": "code",
      "metadata": {
        "id": "2q08_X_beoRB"
      },
      "source": [
        ""
      ],
      "execution_count": null,
      "outputs": []
    },
    {
      "cell_type": "code",
      "metadata": {
        "id": "jaqm-4UAeoOD"
      },
      "source": [
        ""
      ],
      "execution_count": null,
      "outputs": []
    },
    {
      "cell_type": "code",
      "metadata": {
        "id": "H_p25tz1eoLR"
      },
      "source": [
        ""
      ],
      "execution_count": null,
      "outputs": []
    },
    {
      "cell_type": "code",
      "metadata": {
        "id": "dbqB6i3reoId"
      },
      "source": [
        ""
      ],
      "execution_count": null,
      "outputs": []
    },
    {
      "cell_type": "code",
      "metadata": {
        "id": "lhxyuOzTeoFl"
      },
      "source": [
        ""
      ],
      "execution_count": null,
      "outputs": []
    },
    {
      "cell_type": "code",
      "metadata": {
        "id": "OpyziaLeeoCu"
      },
      "source": [
        ""
      ],
      "execution_count": null,
      "outputs": []
    },
    {
      "cell_type": "code",
      "metadata": {
        "id": "5H2pDtEAen_7"
      },
      "source": [
        ""
      ],
      "execution_count": null,
      "outputs": []
    },
    {
      "cell_type": "code",
      "metadata": {
        "id": "WH7_bKueen9H"
      },
      "source": [
        ""
      ],
      "execution_count": null,
      "outputs": []
    },
    {
      "cell_type": "code",
      "metadata": {
        "id": "pHyRwAaien6P"
      },
      "source": [
        ""
      ],
      "execution_count": null,
      "outputs": []
    },
    {
      "cell_type": "code",
      "metadata": {
        "id": "-u3yBhJ-en3Z"
      },
      "source": [
        ""
      ],
      "execution_count": null,
      "outputs": []
    }
  ]
}