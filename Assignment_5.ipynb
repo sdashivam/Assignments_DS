{
 "cells": [
  {
   "cell_type": "markdown",
   "metadata": {},
   "source": [
    "1.What does an empty dictionarys code look like?\n",
    "Ans:- for writing a empty dictionary either we can use {} double curly braces or dict() keyword also."
   ]
  },
  {
   "cell_type": "code",
   "execution_count": 4,
   "metadata": {},
   "outputs": [
    {
     "name": "stdout",
     "output_type": "stream",
     "text": [
      "{}\n",
      "<class 'dict'>\n",
      "Length: 0\n"
     ]
    }
   ],
   "source": [
    "em_dict = {}\n",
    "print(em_dict)\n",
    "print(type(em_dict))\n",
    "print(\"Length:\", len(em_dict))"
   ]
  },
  {
   "cell_type": "markdown",
   "metadata": {},
   "source": [
    "2.What is the value of a dictionary value with the key &#39;foo&#39; and the value 42?\n",
    "Ans- in a dictonary we write it in a {\"key\":\"value\"} form.so the value for a given key is 42."
   ]
  },
  {
   "cell_type": "code",
   "execution_count": 5,
   "metadata": {},
   "outputs": [
    {
     "data": {
      "text/plain": [
       "dict_values([42])"
      ]
     },
     "execution_count": 5,
     "metadata": {},
     "output_type": "execute_result"
    }
   ],
   "source": [
    "mdit = {\"foo\":42}\n",
    "mdit.values()"
   ]
  },
  {
   "cell_type": "markdown",
   "metadata": {},
   "source": [
    "3.What is the most significant distinction between a dictionary and a list?\n",
    "Ans:- the most significant distinction between a dict and list is that in a dict we store data in a key-value pair so we can access data through key or value as per our need. but in list we dont have any such option here we have to store data in simple way only and for accessing data we have to use indexing or slicing of the list.additionally List is a collection which is ordered and changeable and Allows duplicate members.on the other hand dict is a collection which is unordered and changeable and not allow duplicate members.\n",
    "example is given below:-"
   ]
  },
  {
   "cell_type": "code",
   "execution_count": 6,
   "metadata": {},
   "outputs": [
    {
     "name": "stdout",
     "output_type": "stream",
     "text": [
      "Nexon\n",
      "brand\n",
      "['brand', 'model', 'year']\n"
     ]
    }
   ],
   "source": [
    "mdit = {\n",
    "  \"brand\": \"TATA\",\n",
    "  \"model\": \"Nexon\",\n",
    "  \"year\": 2020\n",
    "}\n",
    "\n",
    "#accessing data through key\n",
    "mdit.keys()\n",
    "print(mdit[\"model\"])\n",
    "\n",
    "# accessing data through value \n",
    "def get_key(val):\n",
    "    for key, value in mdit.items():\n",
    "         if val == value:\n",
    "                return key\n",
    "    return \"key doesn't exist\"\n",
    "\n",
    "print(get_key('TATA'))\n",
    "\n",
    "# geeting values from the dict \n",
    "mdit.values()\n",
    "\n",
    "#conveting dict into list\n",
    "print(list(mdit))"
   ]
  },
  {
   "cell_type": "markdown",
   "metadata": {},
   "source": [
    "4.What happens if you try to access spam['foo'] if spam is {'bar':100}?\n",
    "Ans:-\n",
    "it will give us KeyError becuase we are trying to access the data through a unavailable key."
   ]
  },
  {
   "cell_type": "code",
   "execution_count": 7,
   "metadata": {},
   "outputs": [
    {
     "ename": "KeyError",
     "evalue": "'foo'",
     "output_type": "error",
     "traceback": [
      "\u001b[1;31m---------------------------------------------------------------------------\u001b[0m",
      "\u001b[1;31mKeyError\u001b[0m                                  Traceback (most recent call last)",
      "\u001b[1;32m<ipython-input-7-cea1cd791e68>\u001b[0m in \u001b[0;36m<module>\u001b[1;34m\u001b[0m\n\u001b[0;32m      1\u001b[0m \u001b[0mspam\u001b[0m \u001b[1;33m=\u001b[0m \u001b[1;33m{\u001b[0m\u001b[1;34m'bar'\u001b[0m\u001b[1;33m:\u001b[0m\u001b[1;36m100\u001b[0m\u001b[1;33m}\u001b[0m\u001b[1;33m\u001b[0m\u001b[1;33m\u001b[0m\u001b[0m\n\u001b[1;32m----> 2\u001b[1;33m \u001b[0mspam\u001b[0m\u001b[1;33m[\u001b[0m\u001b[1;34m'foo'\u001b[0m\u001b[1;33m]\u001b[0m\u001b[1;33m\u001b[0m\u001b[1;33m\u001b[0m\u001b[0m\n\u001b[0m",
      "\u001b[1;31mKeyError\u001b[0m: 'foo'"
     ]
    }
   ],
   "source": [
    "spam = {'bar':100}\n",
    "spam['foo']"
   ]
  },
  {
   "cell_type": "markdown",
   "metadata": {},
   "source": [
    "5.If a dictionary is stored in spam, what is the difference between the expressions 'cat' in spam and 'cat' in spam.keys()?\n",
    "Ans:- for an example we have a dictonary named spam. in spam dict we have a key 'cat' with the value of 0. so when we write a spam.keys()  this method returns the keys those are stored in the dictonary."
   ]
  },
  {
   "cell_type": "code",
   "execution_count": 8,
   "metadata": {},
   "outputs": [
    {
     "name": "stdout",
     "output_type": "stream",
     "text": [
      "dict_keys(['cat'])\n",
      "dict_values([0])\n"
     ]
    }
   ],
   "source": [
    "spam = {'cat':0}\n",
    "print(spam.keys())\n",
    "print(spam.values())"
   ]
  },
  {
   "cell_type": "markdown",
   "metadata": {},
   "source": [
    "6.If a dictionary is stored in spam, what is the difference between the expressions 'cat' in spam and 'cat' in spam.values()?\n",
    "Ans:-\n",
    "and when we call the spam.values() it returns the values those are stored inside the dict. in the above exmaple we have dict spam inside this dict we have cat key with 0 value. so when we called spam.values() it returns the values of availble keys inside the dict."
   ]
  },
  {
   "cell_type": "code",
   "execution_count": 14,
   "metadata": {},
   "outputs": [
    {
     "name": "stdout",
     "output_type": "stream",
     "text": [
      "{'cat': 0, 'color': 'black'}\n"
     ]
    }
   ],
   "source": [
    "##7. what is the shortcut for the following code ?\n",
    "if 'color' not in spam:\n",
    "    spam['color'] ='black'\n",
    "print(spam)\n",
    "    \n",
    "## these code check the condition first and if the codition is statisfied then it execute the next operation.\n",
    "# so here first it would check 'color' key in spam is present or not if it not there than only it will create a new pair. so insted of checking we can pass direct key and value using __setitem__.method"
   ]
  },
  {
   "cell_type": "code",
   "execution_count": 12,
   "metadata": {},
   "outputs": [
    {
     "name": "stdout",
     "output_type": "stream",
     "text": [
      "{'cat': 0, 'color': 'black'}\n"
     ]
    }
   ],
   "source": [
    "## so we can write it as a\n",
    "spam.__setitem__('color','black')\n",
    "print(spam)"
   ]
  },
  {
   "cell_type": "code",
   "execution_count": 44,
   "metadata": {},
   "outputs": [
    {
     "data": {
      "text/plain": [
       "dict_values([['pretty print']])"
      ]
     },
     "execution_count": 44,
     "metadata": {},
     "output_type": "execute_result"
    }
   ],
   "source": [
    "##8. How do you \"pretty print\" dictionary values using which module and function?\n",
    "\n",
    "string = \"pretty print\"\n",
    "mdit = {}\n",
    "mdit['keys']=[]\n",
    "mdit['keys'].append(string)\n",
    "mdit.values()\n",
    "\n",
    "## Here we have a string \"pretty print\" where we have to print it in a form of dict value so for that \n",
    "## first we create a empty list of \"keys\" and then append them. after that when we call a dict.values() method we get an output where \"pretty print\" is the value of the dict."
   ]
  },
  {
   "cell_type": "code",
   "execution_count": null,
   "metadata": {},
   "outputs": [],
   "source": []
  },
  {
   "cell_type": "code",
   "execution_count": null,
   "metadata": {},
   "outputs": [],
   "source": []
  },
  {
   "cell_type": "code",
   "execution_count": null,
   "metadata": {},
   "outputs": [],
   "source": []
  },
  {
   "cell_type": "code",
   "execution_count": null,
   "metadata": {},
   "outputs": [],
   "source": []
  }
 ],
 "metadata": {
  "kernelspec": {
   "display_name": "Python 3",
   "language": "python",
   "name": "python3"
  },
  "language_info": {
   "codemirror_mode": {
    "name": "ipython",
    "version": 3
   },
   "file_extension": ".py",
   "mimetype": "text/x-python",
   "name": "python",
   "nbconvert_exporter": "python",
   "pygments_lexer": "ipython3",
   "version": "3.8.5"
  }
 },
 "nbformat": 4,
 "nbformat_minor": 4
}
