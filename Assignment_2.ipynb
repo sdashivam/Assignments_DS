{
 "cells": [
  {
   "cell_type": "markdown",
   "metadata": {},
   "source": [
    "1.What are the Boolean data types two values? How do you go about writing them?\n",
    "Ans:-\n",
    "The truth values of an expression is stored as a python data type called bool. There are only two such values in this data type True and False."
   ]
  },
  {
   "cell_type": "code",
   "execution_count": 5,
   "metadata": {},
   "outputs": [
    {
     "name": "stdout",
     "output_type": "stream",
     "text": [
      "<class 'bool'>\n",
      "<class 'bool'>\n"
     ]
    }
   ],
   "source": [
    "a = True\n",
    "print(type(a))\n",
    "\n",
    "b  = False\n",
    "print(type(b))"
   ]
  },
  {
   "cell_type": "markdown",
   "metadata": {},
   "source": [
    "2.What are the three different types of Boolean operators?\n",
    "Ans:-\n",
    "there are three types of boolean operaators:-\n",
    "1. & AND operator\n",
    "2. | OR operator\n",
    "3. not opearotr\n"
   ]
  },
  {
   "cell_type": "code",
   "execution_count": 14,
   "metadata": {},
   "outputs": [
    {
     "name": "stdout",
     "output_type": "stream",
     "text": [
      "False\n"
     ]
    }
   ],
   "source": [
    "# 1. example for AND opeartor\n",
    "\n",
    "x = 12\n",
    "y = 24\n",
    "if(x > 12 and y ==  24):\n",
    "        print(\"True\")\n",
    "else:\n",
    "    print(\"False\")"
   ]
  },
  {
   "cell_type": "code",
   "execution_count": 15,
   "metadata": {},
   "outputs": [
    {
     "name": "stdout",
     "output_type": "stream",
     "text": [
      "False\n"
     ]
    }
   ],
   "source": [
    "#2. example for OR operator\n",
    "\n",
    "x = 12\n",
    "y = 24\n",
    "if(x>12 or y<24):\n",
    "    print(\"True\")\n",
    "else:\n",
    "    print(\"False\")"
   ]
  },
  {
   "cell_type": "code",
   "execution_count": 18,
   "metadata": {},
   "outputs": [
    {
     "name": "stdout",
     "output_type": "stream",
     "text": [
      "if Executed\n"
     ]
    }
   ],
   "source": [
    "#3. example for NOT operator\n",
    "\n",
    "x = 12\n",
    "y = 24\n",
    "if(x != y):\n",
    "    print(\"if Executed\")\n",
    "else:\n",
    "    print(\"else executed\")"
   ]
  },
  {
   "cell_type": "markdown",
   "metadata": {},
   "source": [
    "3.Make a list of each Boolean operators truth tables (i.e. every possible combination of Boolean values for the operator and what it evaluate).\n",
    "\n",
    "== Truth Table\n",
    "x\t    ==  y\t    Returns\n",
    "True\t==\tTrue\tTrue\n",
    "True\t==\tFalse\tFalse\n",
    "False\t==\tTrue\tFalse\n",
    "False\t==\tFalse\tTrue\n",
    "\n",
    "AND Truth Table\n",
    "x\t    and\t y\t    Returns\n",
    "True\tand\t True\tTrue\n",
    "True\tand\t False\tFalse\n",
    "False\tand\t True\tFalse\n",
    "False\tand\t False\tFalse\n",
    "\n",
    "OR Truth Table\n",
    "x\t    or\ty\t    Returns\n",
    "True\tor\tTrue\tTrue\n",
    "True\tor\tFalse\tTrue\n",
    "False\tor\tTrue\tTrue\n",
    "False\tor\tFalse\tFalse\n",
    "\n",
    "NOT Truth Table\n",
    "not\t x\t    Returns\n",
    "not\t True\tFalse\n",
    "not\t False\tTrue\n"
   ]
  },
  {
   "cell_type": "markdown",
   "metadata": {},
   "source": [
    "4.What are the values of the following expressions?\n",
    "Ans:-\n",
    "here we have some logical expression where we are using logical operators between two variable and getting the output in bool type."
   ]
  },
  {
   "cell_type": "code",
   "execution_count": 26,
   "metadata": {},
   "outputs": [
    {
     "name": "stdout",
     "output_type": "stream",
     "text": [
      "False\n",
      "False\n",
      "True\n",
      "False\n",
      "False\n",
      "True\n"
     ]
    }
   ],
   "source": [
    "print((5>4) and (3==5))\n",
    "print(not(5>4))\n",
    "print((5>4) or (3 == 5))\n",
    "print(not ((5>4) or (3 == 5)))\n",
    "print((True and True) and (True == False))\n",
    "print((not False) or (not True))"
   ]
  },
  {
   "cell_type": "markdown",
   "metadata": {},
   "source": [
    "5.What are the six different types of reference operators?\n",
    "Ans:-\n",
    "\n",
    "The term operator refers to a symbol (or sometimes a phrase of alphabets) which is predefined to perform a certain process such as addition, comparison etc. some of the operators are given below:-\n",
    "\n",
    "1. Arithmetic operators\n",
    "2. In-place assignment operators\n",
    "3. Logical operators\n",
    "4. Sequence operators\n",
    "5. Set operators\n",
    "6. Identity operators\n",
    "7. Bitwise operators\n"
   ]
  },
  {
   "cell_type": "code",
   "execution_count": 58,
   "metadata": {},
   "outputs": [
    {
     "name": "stdout",
     "output_type": "stream",
     "text": [
      "the addition between x and y is : 19\n",
      "the subtraction between x and y is : 5\n",
      "the multiplication between x and y is : 84\n",
      "the divison between x and y is : 1.7142857142857142\n",
      "the modulus between x and y is : 5\n",
      "the exponent between x and y is : 11\n",
      "the floor division between x and y is : 1\n"
     ]
    }
   ],
   "source": [
    "#Arithmetic operators\n",
    "x,y = 12,7\n",
    "print(\"the addition between x and y is : \" + str(x+y))\n",
    "print(\"the subtraction between x and y is : \" + str(x-y))\n",
    "print(\"the multiplication between x and y is : \" + str(x*y))\n",
    "print(\"the divison between x and y is : \" + str(x/y))\n",
    "print(\"the modulus between x and y is : \" + str(x%y))\n",
    "print(\"the exponent between x and y is : \" + str(x^y))\n",
    "print(\"the floor division between x and y is : \" + str(x//y))"
   ]
  },
  {
   "cell_type": "code",
   "execution_count": 62,
   "metadata": {},
   "outputs": [
    {
     "name": "stdout",
     "output_type": "stream",
     "text": [
      "16\n",
      "7\n",
      "84\n",
      "4.666666666666667\n",
      "0\n",
      "268435456\n",
      "5\n"
     ]
    }
   ],
   "source": [
    "#2. in place assignement operators\n",
    "\n",
    "# add and assign\n",
    "a,b  = 12,4\n",
    "a+=b\n",
    "print(a)\n",
    "\n",
    "#subtract and assign\n",
    "a,b = 13,6\n",
    "a-=b\n",
    "print(a)\n",
    "\n",
    "#multiply and assign\n",
    "a,b = 14,6\n",
    "a*=b\n",
    "print(a)\n",
    "\n",
    "#divide and assign\n",
    "a,b  = 14,3\n",
    "a/=b\n",
    "print(a)\n",
    "\n",
    "#modulus and assign\n",
    "a,b = 12, 3\n",
    "a%=b\n",
    "print(a)\n",
    "\n",
    "#exponent and assign\n",
    "a,b = 16,7\n",
    "a**=b\n",
    "print(a)\n",
    "\n",
    "#floor and assign\n",
    "a,b = 17,3\n",
    "a//=b\n",
    "print(a)"
   ]
  },
  {
   "cell_type": "code",
   "execution_count": 71,
   "metadata": {},
   "outputs": [
    {
     "name": "stdout",
     "output_type": "stream",
     "text": [
      "a is equal to b: False\n",
      "a is not equal to b: True\n",
      "a is greater than b: True\n",
      "a is less than b: False\n",
      "a is greater than or equal to b : True\n",
      "a is less than or equal to b: False\n"
     ]
    }
   ],
   "source": [
    "#3. logical operators\n",
    "\n",
    "a,b = 12,5\n",
    "print(\"a is equal to b: \" + str(a==b))\n",
    "print(\"a is not equal to b: \" + str(a!=b))\n",
    "print(\"a is greater than b: \" + str(a>b))\n",
    "print(\"a is less than b: \" + str(a<b))\n",
    "print(\"a is greater than or equal to b : \" + str(a>=b))\n",
    "print(\"a is less than or equal to b: \" + str(a<=b))"
   ]
  },
  {
   "cell_type": "code",
   "execution_count": 77,
   "metadata": {},
   "outputs": [
    {
     "name": "stdout",
     "output_type": "stream",
     "text": [
      "datascience\n",
      "[1, 2, 3, 4, 5, 6]\n",
      "(1, 2, 3, 4, 5, 6)\n",
      "datadatadata\n",
      "[1, 2, 3, 1, 2, 3, 1, 2, 3]\n",
      "(1, 2, 3, 1, 2, 3, 1, 2, 3)\n",
      "i\n",
      "6\n",
      "6\n",
      "ta \n",
      "dat\n",
      " science\n",
      "[3, 4]\n",
      "[1, 2, 3]\n",
      "[4, 5, 6]\n",
      "(3, 4)\n",
      "(1, 2, 3)\n",
      "(4, 5, 6)\n",
      "True\n",
      "True\n",
      "False\n",
      "True\n",
      "True\n"
     ]
    }
   ],
   "source": [
    "#4. sequence operators\n",
    "\n",
    "\n",
    "s1,s2 = \"data\",\"science\"\n",
    "l1,l2=[1,2,3],[4,5,6]\n",
    "t1,t2=(1,2,3),(4,5,6)\n",
    "\n",
    "#concatenation\n",
    "print (s1+s2)\n",
    "print (l1+l2)\n",
    "print (t1+t2)\n",
    "\n",
    "#repetition\n",
    "print (s1*3)\n",
    "print (l1*3)\n",
    "print (t1*3)\n",
    "\n",
    "#slice\n",
    "print(s2[2])\n",
    "print (l2[2])\n",
    "print (t2[2])\n",
    "\n",
    "\n",
    "s1='data science'\n",
    "l1=[1, 2, 3, 4, 5, 6]\n",
    "t1=(1, 2, 3, 4, 5, 6)\n",
    "\n",
    "#range slice of string\n",
    "print (s1[2:5])\n",
    "print (s1[:3])\n",
    "print (s1[4:])\n",
    "\n",
    "#range slice on list\n",
    "print (l1[2:4])\n",
    "print (l1[:3])\n",
    "print (l1[3:])\n",
    "\n",
    "#range slice on tuple\n",
    "print (t1[2:4])\n",
    "print (t1[:3])\n",
    "print (t1[3:])\n",
    "\n",
    "s1='data science'\n",
    "l1=[1, 2, 3, 4, 5, 6]\n",
    "t1=(1, 2, 3, 4, 5, 6)\n",
    "\n",
    "print('sc' in s1)\n",
    "print('W' not in s1)\n",
    "print(10 in l1)\n",
    "print(100 not in l1)\n",
    "print(10/3 not in t1)"
   ]
  },
  {
   "cell_type": "code",
   "execution_count": 81,
   "metadata": {},
   "outputs": [
    {
     "name": "stdout",
     "output_type": "stream",
     "text": [
      "{33, 34, 12, 13, 14, 15, 21, 23, 24, 31}\n",
      "{21, 23}\n",
      "{12, 13, 14, 15}\n",
      "{12, 13, 14, 15, 24, 31, 33, 34}\n"
     ]
    }
   ],
   "source": [
    "#5. set operator\n",
    "\n",
    "set1, set2 = {12,13,14,15,21,23},{21,23,31,34,24,33}\n",
    "\n",
    "#union\n",
    "set3 = set1|set2\n",
    "print(set3)\n",
    "\n",
    "#interaction\n",
    "set3 = set1&set2\n",
    "print(set3)\n",
    "\n",
    "#difference\n",
    "set3 = set1-set2\n",
    "print(set3)\n",
    "\n",
    "#symmetric difference\n",
    "set3 = set1^set2\n",
    "print(set3)"
   ]
  },
  {
   "cell_type": "code",
   "execution_count": 88,
   "metadata": {},
   "outputs": [
    {
     "name": "stdout",
     "output_type": "stream",
     "text": [
      "140709645920448 140709645920448\n",
      "140709645920512 140709645921344\n"
     ]
    },
    {
     "data": {
      "text/plain": [
       "False"
      ]
     },
     "execution_count": 88,
     "metadata": {},
     "output_type": "execute_result"
    }
   ],
   "source": [
    "#6. identity operator\n",
    "\n",
    "a = 14\n",
    "b = a \n",
    "print(id(a), id(b))\n",
    "a is b \n",
    " \n",
    "x = 16\n",
    "y = a*3\n",
    "print(id(x), id(y))\n",
    "x is y"
   ]
  },
  {
   "cell_type": "markdown",
   "metadata": {},
   "source": [
    "6.How do you tell the difference between the equal to and assignment operators?\n",
    "Ans:-\n",
    "the \"=\" is an assignment operator is used to assign the value on the right to the variable on the left.\n",
    "the \"==\" equal to operator is used to check whether the two given operands are equal or not. if so it returns true.otherwise false."
   ]
  },
  {
   "cell_type": "markdown",
   "metadata": {},
   "source": [
    "7.Describe a condition and when you would use one.\n",
    "Ans:- when we need to assign a value to the variable we use \"=\"    operator.example 1\n",
    "and when we have to check wheather the two given operands are equal or        not. we use \"==\" opearator if so it returns true, otherwise false. example 2"
   ]
  },
  {
   "cell_type": "code",
   "execution_count": 92,
   "metadata": {},
   "outputs": [
    {
     "name": "stdout",
     "output_type": "stream",
     "text": [
      "45\n",
      "False\n"
     ]
    }
   ],
   "source": [
    "#1. \n",
    "d = 45\n",
    "print(d)\n",
    "\n",
    "#2.\n",
    "a,b = 12,34\n",
    "print(a == b)"
   ]
  },
  {
   "cell_type": "markdown",
   "metadata": {},
   "source": [
    "8. Recognize the following three blocks in this code:\n",
    "Ans:-\n",
    "in this given below code we have a three code blocks where we are defining our conditions.in first block we are saying if spam is equal to 10 then need to print 'eggs' inside these if statement we had given two more conditions if spam is greater than 5 than print bacon or else print 'ham' so first it will check the value of spam and compare it with the second condition and if it is true than it will execute(print) the required output. once these condoitions statisfied it will come out from the if statement and print the 'spam', or finally it will end up with print 'spam'. this condition and process only excecuted when the value of spam is equal to 10, if it is not then without executing nested if loop it will directly print 'spam' only."
   ]
  },
  {
   "cell_type": "code",
   "execution_count": 4,
   "metadata": {},
   "outputs": [
    {
     "name": "stdout",
     "output_type": "stream",
     "text": [
      "spam\n"
     ]
    }
   ],
   "source": [
    "spam=0\n",
    "if spam == 10:\n",
    "    print('eggs')\n",
    "    if spam>5:\n",
    "        print('bacon')\n",
    "    else:\n",
    "        print('ham')\n",
    "    print('spam')\n",
    "print('spam')"
   ]
  },
  {
   "cell_type": "markdown",
   "metadata": {},
   "source": [
    "9.Create a programme that prints. If 1 is stored in spam, prints Hello; if 2 is stored in spam, prints Howdy;and if 3 is stored in spam, prints Salutations! if there&#39;s something else in spam."
   ]
  },
  {
   "cell_type": "code",
   "execution_count": 9,
   "metadata": {},
   "outputs": [
    {
     "name": "stdout",
     "output_type": "stream",
     "text": [
      "Salutations\n"
     ]
    }
   ],
   "source": [
    "spam = 3\n",
    "\n",
    "if spam == 1:\n",
    "    print('Hello')\n",
    "elif spam == 2:\n",
    "    print('Howdy')\n",
    "elif spam ==3:\n",
    "    print('Salutations')\n",
    "else:\n",
    "    print('Spam')"
   ]
  },
  {
   "cell_type": "markdown",
   "metadata": {},
   "source": [
    "10.If your programme is stuck in an endless loop, what keys can you press?\n",
    "Ans:-\n",
    "to emerge from endless loop we should press \"Ctrl+C\" key. "
   ]
  },
  {
   "cell_type": "markdown",
   "metadata": {},
   "source": [
    "11.how can you tell the difference b/w break and continue ?\n",
    "Ans:-\n",
    "Break statements exist in Python to exit or “break” a for or while conditional loop. When the loop ends, the code picks up from and executes the next line immediately following the loop that was broken.(#ex-1)\n",
    "The continue statement is used to skip code within a loop for certain iterations of the loop. After the code is skipped, the loop continues where it left off.(#ex-2)"
   ]
  },
  {
   "cell_type": "code",
   "execution_count": 24,
   "metadata": {},
   "outputs": [
    {
     "name": "stdout",
     "output_type": "stream",
     "text": [
      "12\n",
      "24\n",
      "0\n",
      "1\n",
      "2\n",
      "3\n",
      "4\n",
      "5\n",
      "7\n",
      "8\n"
     ]
    }
   ],
   "source": [
    "#1. Break statement\n",
    "numbers = (12,23,32)\n",
    "num_sum = 0\n",
    "count = 0\n",
    "for x in numbers:\n",
    "        num_sum = num_sum + x\n",
    "        count = count + 12\n",
    "        print(count)\n",
    "        if count == 24:\n",
    "                break\n",
    "# in the above code the loop will break when count is equal to 24.\n",
    "\n",
    "\n",
    "#2. Continue statement\n",
    "for x in range(9):\n",
    "    if (x==6):\n",
    "        continue\n",
    "    print(x)\n",
    "#This example would print all numbers from 0-9 except 6 becuase we have given the condition x is equal to 6 so it will skipped the 6."
   ]
  },
  {
   "cell_type": "markdown",
   "metadata": {},
   "source": [
    "12.In a for loop, what is the difference between range(10), range(0, 10), and range(0, 10, 1)?\n",
    "Ans:- \n",
    "range(10)=> \n",
    "when we define the range function with only single digit so it will print the whole sequence starting from the 0 with step default 1 excluding the last digit. for example we are writing the range with only 10 so it will run and print all the digits b/w 0 to 10 with default step 1 only.(#ex-1)\n",
    "\n",
    "range(0,10)=>\n",
    "when we want to create a sequence with a specific start and end point we use range function with start and end digit. for example if we want to print a sequence from 10 to 20 with increment step 1 by default so will get output as a sequence from 10 to 20.(#ex-2)\n",
    "\n",
    "range(0, 10, 1)=>\n",
    "when we want to create sequence with specific step count we use range function with start, end point with steps. so it will print the result as a desired sequence. for example i want to  print a sequence from 10 to 20 with steps of 2 so i get the following result.(#ex-3)\n",
    "the difference b/w ex-2 and ex-3 is that in ex-3 we define the step count from own and in ex-2 it will take python default step 1."
   ]
  },
  {
   "cell_type": "code",
   "execution_count": 33,
   "metadata": {},
   "outputs": [
    {
     "name": "stdout",
     "output_type": "stream",
     "text": [
      "0\n",
      "1\n",
      "2\n",
      "3\n",
      "4\n",
      "5\n",
      "6\n",
      "7\n",
      "8\n",
      "9\n",
      "10\n",
      "11\n",
      "12\n",
      "13\n",
      "14\n",
      "15\n",
      "16\n",
      "17\n",
      "18\n",
      "19\n",
      "10\n",
      "12\n",
      "14\n",
      "16\n",
      "18\n"
     ]
    }
   ],
   "source": [
    "x = range(10)\n",
    "for i in x:\n",
    "    print(i)\n",
    "    \n",
    "y = range(10,20)\n",
    "for i in y:\n",
    "    print(i)\n",
    "    \n",
    "z = range(10, 20, 2)\n",
    "for i in z:\n",
    "    print(i)"
   ]
  },
  {
   "cell_type": "markdown",
   "metadata": {},
   "source": [
    "13.Using a for loop, write a short programme that prints the numbers 1 to 10 Then, using a while loop, create an identical programme that prints the numbers 1 to 10."
   ]
  },
  {
   "cell_type": "code",
   "execution_count": 38,
   "metadata": {},
   "outputs": [
    {
     "name": "stdout",
     "output_type": "stream",
     "text": [
      "1\n",
      "2\n",
      "3\n",
      "4\n",
      "5\n",
      "6\n",
      "7\n",
      "8\n",
      "9\n",
      "10\n"
     ]
    }
   ],
   "source": [
    "x = range(1,11)\n",
    "for i in x:\n",
    "    print(i)"
   ]
  },
  {
   "cell_type": "code",
   "execution_count": 41,
   "metadata": {},
   "outputs": [
    {
     "name": "stdout",
     "output_type": "stream",
     "text": [
      "1\n",
      "2\n",
      "3\n",
      "4\n",
      "5\n",
      "6\n",
      "7\n",
      "8\n",
      "9\n",
      "10\n"
     ]
    }
   ],
   "source": [
    "x = 1\n",
    "while(x <= 10):\n",
    "    print(x)\n",
    "    x += 1"
   ]
  },
  {
   "cell_type": "markdown",
   "metadata": {},
   "source": [
    "14.If you had a bacon() function within a spam module, how would you call it after importing spam?\n",
    "Ans:-\n",
    "how to call a function after importing a module in python \n",
    "To use the functionality present in any module, we have to import it into our current program.then need to use the import keyword along with the desired module name. When interpreter comes across an import statement, it imports the module in our current program. we can use the functions inside a module by using a dot(.) operator along with the module name. so for importing bacon() function inside the spam module first we need to import spam in our current program and then we can call the bacon() function using (.) operator."
   ]
  }
 ],
 "metadata": {
  "kernelspec": {
   "display_name": "Python 3",
   "language": "python",
   "name": "python3"
  },
  "language_info": {
   "codemirror_mode": {
    "name": "ipython",
    "version": 3
   },
   "file_extension": ".py",
   "mimetype": "text/x-python",
   "name": "python",
   "nbconvert_exporter": "python",
   "pygments_lexer": "ipython3",
   "version": "3.8.5"
  }
 },
 "nbformat": 4,
 "nbformat_minor": 4
}
