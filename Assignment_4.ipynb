{
 "cells": [
  {
   "cell_type": "markdown",
   "metadata": {},
   "source": [
    "1.What exactly is []?\n",
    "Ans:-\n",
    "in  python we use [] for creating a list. example is given below-"
   ]
  },
  {
   "cell_type": "code",
   "execution_count": 2,
   "metadata": {},
   "outputs": [
    {
     "data": {
      "text/plain": [
       "list"
      ]
     },
     "execution_count": 2,
     "metadata": {},
     "output_type": "execute_result"
    }
   ],
   "source": [
    "x = [12,21,23,34,43]\n",
    "type(x)"
   ]
  },
  {
   "cell_type": "markdown",
   "metadata": {},
   "source": [
    "2.In a list of values stored in a variable called spam, how would you assign the value 'hello' as the third value? (Assume [2, 4, 6, 8, 10] are in spam.)\n",
    "Ans:-\n",
    "for that we can use insert() function with the index and element. it will insert the element on the given index position."
   ]
  },
  {
   "cell_type": "code",
   "execution_count": 13,
   "metadata": {},
   "outputs": [
    {
     "data": {
      "text/plain": [
       "[2, 4, 6, 'hello', 8, 10]"
      ]
     },
     "execution_count": 13,
     "metadata": {},
     "output_type": "execute_result"
    }
   ],
   "source": [
    "spam = [2,4,6,8,10]\n",
    "spam.insert(3,'hello')\n",
    "spam"
   ]
  },
  {
   "cell_type": "markdown",
   "metadata": {},
   "source": [
    "3.What is the value of spam[int(int('3' * 2) / 11)]?\n",
    "Ans- 'd'\n",
    "\n",
    "4.What is the value of spam[-1]?\n",
    "Ans- 'd'\n",
    "\n",
    "5.What is the value of spam[:2]?\n",
    "Ans - ['a', 'b']"
   ]
  },
  {
   "cell_type": "code",
   "execution_count": 19,
   "metadata": {},
   "outputs": [
    {
     "name": "stdout",
     "output_type": "stream",
     "text": [
      "d\n",
      "d\n",
      "['a', 'b']\n"
     ]
    }
   ],
   "source": [
    "spam  =['a','b','c','d']\n",
    "\n",
    "#question 3\n",
    "print(spam[int(int('3'*2)/11)])\n",
    "\n",
    "#question 4\n",
    "print(spam[-1])\n",
    "\n",
    "#question 5\n",
    "print(spam[:2])"
   ]
  },
  {
   "cell_type": "markdown",
   "metadata": {},
   "source": [
    "6.What is the value of bacon.index('cat')?\n",
    "Ans - 1\n",
    "\n",
    "7.How does bacon.append(99) change the look of the list value in bacon?\n",
    "Ans - [3.14, 'cat', 11, 'cat', True, 99] it appends 99 at the last position in the list.\n",
    "\n",
    "8.How does bacon.remove('cat') change the look of the list meaning in bacon?\n",
    "Ans - it removes 'cat' of 1 index"
   ]
  },
  {
   "cell_type": "code",
   "execution_count": 27,
   "metadata": {},
   "outputs": [
    {
     "name": "stdout",
     "output_type": "stream",
     "text": [
      "1\n"
     ]
    },
    {
     "data": {
      "text/plain": [
       "[3.14, 11, 'cat', True, 99]"
      ]
     },
     "execution_count": 27,
     "metadata": {},
     "output_type": "execute_result"
    }
   ],
   "source": [
    "bacon = [3.14,'cat',11,'cat',True]\n",
    "\n",
    "#question 6\n",
    "print(bacon.index('cat'))\n",
    "\n",
    "#question 7\n",
    "bacon.append(99)\n",
    "bacon\n",
    "\n",
    "#question 8 \n",
    "bacon.remove('cat')\n",
    "bacon"
   ]
  },
  {
   "cell_type": "markdown",
   "metadata": {},
   "source": [
    "9.What are the list concatenation and list replication operators?\n",
    "Ans:-\n",
    "\n",
    "list concatenation:-it is used for concatenating two and more list we can do this in a two way 1.using + operator 2.using extend\n",
    "#example-1\n",
    "\n",
    "list replication:-python has a sequence replication operator (*)  does not copy the original list's items, it simply replicates the references to the items. So we end up with a new list containing given references to the same inner list.\n",
    "#example-2"
   ]
  },
  {
   "cell_type": "code",
   "execution_count": 42,
   "metadata": {},
   "outputs": [
    {
     "name": "stdout",
     "output_type": "stream",
     "text": [
      "[12, 23, 32, 34, 43, 22, 24, 34, 32, 15, 20]\n",
      "None\n"
     ]
    }
   ],
   "source": [
    "#example -1 \n",
    "lst1 = [12,23,32,34,43]\n",
    "lst2 = [22,24,34,32,15,20]\n",
    "lst3 = lst1+lst2 #with + opearator\n",
    "print(lst3)\n",
    "\n",
    "lsta = [11,12,12,32]\n",
    "lstb = [21,2,23,32,34,32]\n",
    "lstc = lsta.extend(lstb)\n",
    "print(lstc)"
   ]
  },
  {
   "cell_type": "code",
   "execution_count": 45,
   "metadata": {},
   "outputs": [
    {
     "data": {
      "text/plain": [
       "[12, 32, 14, 45, 56, 65, 12, 32, 14, 45, 56, 65]"
      ]
     },
     "execution_count": 45,
     "metadata": {},
     "output_type": "execute_result"
    }
   ],
   "source": [
    "#example -2\n",
    "ac = [12,32,14,45,56,65]*2\n",
    "ac"
   ]
  },
  {
   "cell_type": "markdown",
   "metadata": {},
   "source": [
    "10.What is difference between the list methods append() and insert()?\n",
    "Ans:-\n",
    "\n",
    "append()- The append() method in python adds a single item to the existing list. It doesn't return a new list of items but will modify the original list by adding the item to the end of the list.when we use append() the element is directly appends in the list in last position and we need not to define index.\n",
    "example -1\n",
    "\n",
    "insert()-Python List insert() method takes two parameters index and element and  Return Value.here we must be declear the index postion where we want to insert element, it will take always two argumewnts, if we do not provide index then it will through an error.\n",
    "example -2\n"
   ]
  },
  {
   "cell_type": "code",
   "execution_count": 52,
   "metadata": {},
   "outputs": [
    {
     "name": "stdout",
     "output_type": "stream",
     "text": [
      "['apple', 'banana', 'cherry', 'orange']\n",
      "['apple', 'kiwi', 'banana', 'cherry']\n"
     ]
    }
   ],
   "source": [
    "#example -1 \n",
    "fruits = ['apple', 'banana', 'cherry']\n",
    "fruits.append(\"orange\")\n",
    "print(fruits)\n",
    "\n",
    "#example-2\n",
    "fruit = ['apple', 'banana', 'cherry']\n",
    "fruit.insert(1, 'kiwi')\n",
    "print(fruit)"
   ]
  },
  {
   "cell_type": "markdown",
   "metadata": {},
   "source": [
    "11.What are the two methods for removing items from a list?\n",
    "Ans:-\n",
    "for removing an item from a list we can use remove() and pop() methods.\n",
    "remove()-It helps to remove the given very first element matching from the list.\n",
    "pop()-The pop() method removes an element from the list based on the index given.\n",
    "examples are given below-"
   ]
  },
  {
   "cell_type": "code",
   "execution_count": 58,
   "metadata": {},
   "outputs": [
    {
     "name": "stdout",
     "output_type": "stream",
     "text": [
      "['Gun', 50, 11.5, 50, ['A', 'B', 'C']]\n"
     ]
    },
    {
     "data": {
      "text/plain": [
       "['A', 'B', 'C']"
      ]
     },
     "execution_count": 58,
     "metadata": {},
     "output_type": "execute_result"
    }
   ],
   "source": [
    "lst = ['Gun', 50, 11.50, 'rocket', 50, ['A', 'B', 'C']]\n",
    "\n",
    "lst.remove('rocket')\n",
    "print(lst)\n",
    "\n",
    "lst.pop(4)"
   ]
  },
  {
   "cell_type": "markdown",
   "metadata": {},
   "source": [
    "12.Describe how list values and string values are identical.\n",
    "   What's the difference between tuples and lists?\n",
    "Ans:-\n",
    "for that we can define a function that will check the condition with the elements of the given list if it is satisfied the condition then it will return true means list is identical(all the elements of the list are same), otherwise flase.\n",
    "example-1\n",
    "\n",
    "example-2\n",
    "tuple -A tuple is a collection of objects which is ordered and immutable.        Tuples are similar to lists, the main difference ist the immutability. In Python tuples are written with round brackets and comma separated values.\n",
    "\n",
    "list - List is a collection data type which is ordered and mutable. Unlike Sets, Lists allow duplicate elements. They are useful for preserving a sequence of data and further iterating over it. Lists are created with square brackets.\n"
   ]
  },
  {
   "cell_type": "code",
   "execution_count": 74,
   "metadata": {},
   "outputs": [
    {
     "name": "stdout",
     "output_type": "stream",
     "text": [
      "False\n",
      "True\n",
      "<class 'tuple'>\n",
      "<class 'list'>\n"
     ]
    }
   ],
   "source": [
    "#example -1\n",
    "lst1 = [1,2,3,4]\n",
    "lst2 = [1, 1, 1,1]\n",
    "\n",
    "def testList(list):\n",
    "    for item in list[1:]:\n",
    "        if item != list[0]:\n",
    "            return False\n",
    "        return True\n",
    "    \n",
    "print(testList(lst1))\n",
    "print(testList(lst2))\n",
    "\n",
    "tup = (\"Max\", 28, \"New York\")\n",
    "print(type(tup))\n",
    "\n",
    "lst = [\"banana\", \"cherry\", \"apple\"]\n",
    "print(type(lst))"
   ]
  },
  {
   "cell_type": "markdown",
   "metadata": {},
   "source": [
    "14.How do you type a tuple value that only contains the integer 42?\n",
    "Ans:-\n",
    "for that we just need to write (,) semicolon at the last of integer 42, so it will give us a tuple with single element(int 42)."
   ]
  },
  {
   "cell_type": "code",
   "execution_count": 85,
   "metadata": {},
   "outputs": [
    {
     "data": {
      "text/plain": [
       "tuple"
      ]
     },
     "execution_count": 85,
     "metadata": {},
     "output_type": "execute_result"
    }
   ],
   "source": [
    "tup = (42,)\n",
    "type(tup)"
   ]
  },
  {
   "cell_type": "markdown",
   "metadata": {},
   "source": [
    "15.How do you get a list value's tuple form? How do you get a tuple value's list form?\n",
    "Ans:-\n",
    "to get list value's tuple form we can use list comprehension that will give us the list output. here we are using list of tuples as a input and will get list as a output.\n"
   ]
  },
  {
   "cell_type": "code",
   "execution_count": 92,
   "metadata": {},
   "outputs": [
    {
     "data": {
      "text/plain": [
       "[1, 2, 4, 3, 6, 6, 3]"
      ]
     },
     "execution_count": 92,
     "metadata": {},
     "output_type": "execute_result"
    }
   ],
   "source": [
    "lst = [(1,2), (2,3), (4,5), (3,4), (6,7), (6,7), (3,8)]\n",
    "[i[0] for i in lst]"
   ]
  },
  {
   "cell_type": "markdown",
   "metadata": {},
   "source": [
    "16.Variables that \"contain\" list values are not necessarily lists themselves. Instead, what do they contain?"
   ]
  },
  {
   "cell_type": "markdown",
   "metadata": {},
   "source": [
    "17.How do you distinguish between copy.copy() and copy.deepcopy()?\n",
    "Ans:-\n",
    "Deep copy is a process in which the copying process occurs recursively. It means first constructing a new collection object and then recursively populating it with copies of the child objects found in the original.It means that any changes made to a copy of object do not reflect in the original object.\n",
    "A shallow copy means constructing a new collection object and then populating it with references to the child objects found in the original. The copying process does not recurse and therefore won’t create copies of the child objects themselves.It means that any changes made to a copy of object do reflect in the original object."
   ]
  },
  {
   "cell_type": "code",
   "execution_count": 20,
   "metadata": {},
   "outputs": [
    {
     "name": "stdout",
     "output_type": "stream",
     "text": [
      "[1, 2, [3, 5], 4]\n",
      "[1, 2, [3, 5], 4]\n",
      "The original elements before deep copying\n",
      "1 2 [3, 5] 4 \r\n",
      "The new list of elements after deep copying \n",
      "1 2 [7, 5] 4 \r\n",
      "The original elements after deep copying\n",
      "1 2 [7, 5] 4 "
     ]
    }
   ],
   "source": [
    "import copy\n",
    "lst1 = [1, 2, [3,5], 4]\n",
    "\n",
    "#using shalllow copy\n",
    "lst2 = copy.copy(lst1) \n",
    "print(lst2)\n",
    "  \n",
    "# using deepcopy for deepcopy  \n",
    "lst3 = copy.deepcopy(lst1) \n",
    "print(lst3)\n",
    "\n",
    "print (\"The original elements before deep copying\")\n",
    "for i in range(0,len(lst1)):\n",
    "    print (lst1[i],end=\" \")\n",
    "  \n",
    "print(\"\\r\")\n",
    "  \n",
    "# adding and element to new list\n",
    "lst2[2][0] = 7\n",
    "  \n",
    "# Change is reflected in lst2 \n",
    "print (\"The new list of elements after deep copying \")\n",
    "for i in range(0,len(lst1)):\n",
    "    print (lst2[i],end=\" \")\n",
    "print(\"\\r\")\n",
    "  \n",
    "# Change is NOT reflected in original list\n",
    "# as it is a deep copy\n",
    "print (\"The original elements after deep copying\")\n",
    "for i in range(0,len(lst1)):\n",
    "    print (lst1[i],end=\" \")"
   ]
  },
  {
   "cell_type": "code",
   "execution_count": null,
   "metadata": {},
   "outputs": [],
   "source": []
  },
  {
   "cell_type": "code",
   "execution_count": null,
   "metadata": {},
   "outputs": [],
   "source": []
  },
  {
   "cell_type": "code",
   "execution_count": null,
   "metadata": {},
   "outputs": [],
   "source": []
  },
  {
   "cell_type": "code",
   "execution_count": null,
   "metadata": {},
   "outputs": [],
   "source": []
  },
  {
   "cell_type": "code",
   "execution_count": null,
   "metadata": {},
   "outputs": [],
   "source": []
  }
 ],
 "metadata": {
  "kernelspec": {
   "display_name": "Python 3",
   "language": "python",
   "name": "python3"
  },
  "language_info": {
   "codemirror_mode": {
    "name": "ipython",
    "version": 3
   },
   "file_extension": ".py",
   "mimetype": "text/x-python",
   "name": "python",
   "nbconvert_exporter": "python",
   "pygments_lexer": "ipython3",
   "version": "3.8.5"
  }
 },
 "nbformat": 4,
 "nbformat_minor": 4
}
